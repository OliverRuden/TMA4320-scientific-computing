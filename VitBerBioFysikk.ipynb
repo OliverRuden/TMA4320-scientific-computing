{
 "cells": [
  {
   "cell_type": "markdown",
   "metadata": {},
   "source": [
    "# TMA4320 Biophysics project\n",
    "### Oliver Ruden, Åsmund Mjøs & Astrid Mysterud"
   ]
  },
  {
   "cell_type": "markdown",
   "metadata": {},
   "source": [
    "Polymers are the building blocks of DNA, RNA and proteins. Polymers themselves consist of repeating units called monomers. In this project, polymers will be represented numerically in order to make energy calculations as the polymers rotate around their monomers. FORTSETTELSE INNTRODUKSJON.\n",
    "\n",
    "(Kommentere på at følgende setning svarer på 1a?) A polymer with $N$ monomers will be represented by a $N\\times 2$-array containing the $N$ sets of $x$- and $y$-coordinates of their monomers. The polymer is visualized in an $N\\times N$-grid with the origin placed in the bottom left corner.\n",
    "\n",
    "The following function $\\texttt{createPolymer}$, as described in task 1b), recieves the argument $N$ and returns a polymer of size $N$ shaped as a horizontal line. To determine the $y$-coordinate, integer division is used. hei"
   ]
  },
  {
   "cell_type": "code",
   "execution_count": 2,
   "metadata": {},
   "outputs": [],
   "source": [
    "# First, we import necessary libaries\n",
    "import numpy as np\n",
    "import matplotlib.pyplot as plt"
   ]
  },
  {
   "cell_type": "code",
   "execution_count": 3,
   "metadata": {},
   "outputs": [],
   "source": [
    "def createPolymer(N):\n",
    "    polymer = np.zeros((N, 2))                             # initialize an Nx2-array to represent the polymer\n",
    "    polymer[:, 1] = N // 2                                 # place same y-coordinate for all monomers\n",
    "    polymer[:, 0] = np.array([x for x in range(N)])        # place x-coordinat\n",
    "    return polymer                                         # returns polymer shaped as a horizontal line"
   ]
  },
  {
   "cell_type": "markdown",
   "metadata": {},
   "source": [
    "To answer task **1c)** In order to follow the rules that determines valid polymers, the energy will remain unchanged after a rotation around an endpoint. The energy of a polymer is determined by *noe* between its monomers. When a polymers is rotated around an endpoint, its monomers does not recieve any new neighbours and as a result the energy of the polymer does not change. \n",
    "\n",
    "In algorithm 1 and 2 from the project description, we are to choose a random monomer to rotate around. To decrease the run time of the code, we've decided not to include the edge monomers, since this does not change the *noe* of the monomer.\n",
    "\n",
    "The following code implements a function that visualizes the polymer, as asked for in task **1d)**. The polymer is shown in the yellow/green squares. In the $N\\times N$-grid *hvor polymeret er*, we change the background value to $-N/2$ to *framheve* our polymer (to be able to uniquely identify monomers). Monomers with small indices are represented by *en farge*, while monomers with greater indices are represented by *en annen farge*. We illustrate it in a $(N+1)\\times (N+1)$-grid, because *denne grunnen*. "
   ]
  },
  {
   "cell_type": "code",
   "execution_count": 4,
   "metadata": {},
   "outputs": [],
   "source": [
    "def illustratePolymer(polymer):\n",
    "    N = len(polymer)                               # calculate the size of the input polymer\n",
    "    grid = np.zeros((N + 1, N + 1))                # initialize an (N+1) * (N+1) grid\n",
    "    grid -= int(N/2)                               # set background value to -N / 2 for a better visualization of monomers with small indices\n",
    "\n",
    "    for monomerNumber in range(N):                 # loop through all monomers of the input polymer\n",
    "        x = int(polymer[monomerNumber, 0])         # collect x-coordinate of the monomer\n",
    "        y = int(polymer[monomerNumber, 1])         # collect y-coordinate of the monomer\n",
    "        grid[y, x] = monomerNumber + 1             # set the value of the point (x, y) in the grid to the index of the monomer + 1 (i.e. start at 1)\n",
    "\n",
    "    plt.pcolormesh(grid)\n",
    "    plt.show()"
   ]
  },
  {
   "cell_type": "markdown",
   "metadata": {},
   "source": [
    "While rotating a polymer around its monomers, one easily ends up with a polymer that does not meet the requirements as listed in task **1e)**. The following function receives a polymer and its size $N$, and checks whether it is valid or not. The function $\\texttt{validPolymer}$ returns $\\texttt{True}$ if the polymer is valid, and $\\texttt{False}$ otherwise. To make sure that no monomers have the same coordinates, we initialize the set $\\texttt{coordinateSet}$, where we add the monomer-coordinates as we loop through the monomers of the polymer. Once a monomer with already taken coordinates is encountered, $\\texttt{validPolymer}$ returns $\\texttt{False}$. If a monomer has unique coordinates $(x, y)$, the tuple $(x, y)$ is added to $\\texttt{coordinateSet}$."
   ]
  },
  {
   "cell_type": "code",
   "execution_count": 5,
   "metadata": {},
   "outputs": [],
   "source": [
    "def validPolymer(polymer, N):\n",
    "    if len(polymer) != N:                                      # check if the length of the polymer does not match the input length\n",
    "        return False\n",
    "    \n",
    "    coordinateSet = set()                                      # initialize empty set\n",
    "    coordinateSet.add((polymer[0, 0], polymer[0, 1]))          # add x- and y-coordinate of the first monomer\n",
    "\n",
    "    for monomerNumber in range(1, N):                          # loop through the remaining monomers of the polymer\n",
    "\n",
    "        if (polymer[monomerNumber, 0], polymer[monomerNumber, 1]) in coordinateSet: # check if the monomers coordinates are taken by a preceding monomer\n",
    "            return False                                                            \n",
    "        else: \n",
    "            coordinateSet.add((polymer[monomerNumber, 0], polymer[monomerNumber, 1])) # if the coordinates are unique, add them to coordinateSet\n",
    "\n",
    "        xDiff = np.abs(polymer[monomerNumber, 0] - polymer[monomerNumber - 1, 0])     # x-distance to the preceding monomer\n",
    "        yDiff = np.abs(polymer[monomerNumber, 1] - polymer[monomerNumber - 1, 1])     # y-distance to the preceding monomer\n",
    "        if xDiff + yDiff != 1:    # if the sum of the x- and y-distance to the preceding monomer is not 1, the preceding monomer is not its neighbour\n",
    "            return False          \n",
    "        \n",
    "    return True    "
   ]
  },
  {
   "cell_type": "markdown",
   "metadata": {},
   "source": [
    "Next code block implements the function described in task **1f)**. The function $\\texttt{rotatePolymer}$ receives an input polymer and a monomer which the polymer will rotate around. $\\texttt{rotatePolymer}$ also receives a boolean $\\texttt{positiveDirection}$. $\\texttt{positiveDirection=True}$ rotates the polymer in the positive direction, while $\\texttt{positiveDirection=False}$ rotates the polymer in the negative direction. \n",
    "\n",
    "The placement of each monomer in the polymer after a rotation around a monomer $m_{rot}$, is determined by the distance in $x$-direction $\\Delta x$ to $m_{rot}$. *Matte som forklarer positiv og negativ rotasjon*.\n",
    "\n",
    "Her er jeg som tester å jobbe sammen"
   ]
  },
  {
   "cell_type": "code",
   "execution_count": 6,
   "metadata": {},
   "outputs": [],
   "source": [
    "def rotatePolymer(polymer, monomer, positiveDirection):\n",
    "    monomer -= 1                                            # subtract 1 from the monomerNumber, as the polymer-array is zero-indexed\n",
    "    middleMonomer = len(polymer) // 2                       # find monomerNumber of the middle monomer in the polymer\n",
    "    x, y = polymer[monomer]                                 # collect x- and y-coordinates of the monomer the polymer will rotate around\n",
    "    newPolymer = np.zeros((len(polymer),2))                 # initialize a new polymer, because working inplace changed *noe*\n",
    "\n",
    "    if middleMonomer > monomer:\n",
    "        newPolymer[monomer:] = polymer[monomer:]\n",
    "        newPolymer[:monomer, 0] = (2 * positiveDirection - 1) * (polymer[:monomer, 1] - y) + x\n",
    "        newPolymer[:monomer, 1] = (1 - 2 * positiveDirection) * (polymer[:monomer, 0] - x) + y\n",
    "        \"\"\"\n",
    "        Positive direction:\n",
    "        delta x = delta y\n",
    "        delta y = - delta x\n",
    "        Negative direction:\n",
    "        delta x = - delta y\n",
    "        delta y = delta x\n",
    "\n",
    "        Also uses that True is represented as 1 and False as 0.\n",
    "        \"\"\"\n",
    "        return newPolymer\n",
    "    newPolymer[:monomer+1] = polymer[:monomer+1]\n",
    "    newPolymer[monomer+1:,0] = (1-2*positiveDirection)*(polymer[monomer+1:,1]-y)+x\n",
    "    newPolymer[monomer+1:,1] = (2*positiveDirection-1)*(polymer[monomer+1:,0]-x)+y\n",
    "    \"\"\"\n",
    "        Positive direction:\n",
    "        delta y = delta x\n",
    "        delta x = - delta y\n",
    "        Negative direction:\n",
    "        delta y = - delta x\n",
    "        delta x = delta y\n",
    "    \"\"\"\n",
    "    return newPolymer"
   ]
  },
  {
   "cell_type": "markdown",
   "metadata": {},
   "source": [
    "## g)\n",
    "Her roterer vi masse"
   ]
  },
  {
   "cell_type": "code",
   "execution_count": 16,
   "metadata": {},
   "outputs": [],
   "source": [
    "def rotateNTimes(N, Ns):\n",
    "    rotationsMade = 0\n",
    "    polymer = createPolymer(N)\n",
    "\n",
    "    for i in range(Ns):\n",
    "        monomer = np.random.randint(2, N)\n",
    "        positivRetning = np.random.choice([True, False])\n",
    "\n",
    "        twistedPolymer = rotatePolymer(polymer, monomer, positivRetning)\n",
    "        if validPolymer(twistedPolymer, N):\n",
    "            rotationsMade += 1\n",
    "            polymer = twistedPolymer\n",
    "\n",
    "    return polymer, rotationsMade"
   ]
  },
  {
   "cell_type": "markdown",
   "metadata": {},
   "source": [
    "# heisann wiiii"
   ]
  }
 ],
 "metadata": {
  "kernelspec": {
   "display_name": "Python 3.10.11 64-bit",
   "language": "python",
   "name": "python3"
  },
  "language_info": {
   "codemirror_mode": {
    "name": "ipython",
    "version": 3
   },
   "file_extension": ".py",
   "mimetype": "text/x-python",
   "name": "python",
   "nbconvert_exporter": "python",
   "pygments_lexer": "ipython3",
   "version": "3.10.11"
  },
  "orig_nbformat": 4,
  "vscode": {
   "interpreter": {
    "hash": "aee8b7b246df8f9039afb4144a1f6fd8d2ca17a180786b69acc140d282b71a49"
   }
  }
 },
 "nbformat": 4,
 "nbformat_minor": 2
}
