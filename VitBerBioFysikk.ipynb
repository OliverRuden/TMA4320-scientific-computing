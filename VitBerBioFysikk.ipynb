{
 "cells": [
  {
   "cell_type": "code",
   "execution_count": 1,
   "metadata": {},
   "outputs": [],
   "source": [
    "import numpy as np;\n",
    "import matplotlib.pyplot as plt;"
   ]
  },
  {
   "cell_type": "markdown",
   "metadata": {},
   "source": [
    "### Oppgave 1)\n",
    "## a)\n",
    "\n",
    "## b)"
   ]
  },
  {
   "cell_type": "code",
   "execution_count": 2,
   "metadata": {},
   "outputs": [],
   "source": [
    "def createPolymer(N):\n",
    "    polymer = np.zeros((N, 2)) \n",
    "    polymer[:, 1] = N // 2                                     # setter y-koordinat\n",
    "    polymer[:, 0] = np.array([i for i in range(N)])          # setter x-koordinat\n",
    "    return polymer"
   ]
  },
  {
   "cell_type": "markdown",
   "metadata": {},
   "source": [
    "## c)\n",
    "\n",
    "## d)"
   ]
  },
  {
   "cell_type": "code",
   "execution_count": 3,
   "metadata": {},
   "outputs": [],
   "source": [
    "def illustrationPolymer(polymer):\n",
    "    N = len(polymer)                 \n",
    "    grid = np.zeros((N+1,N+1))        # Lager (N+1)*(N+1) grid\n",
    "    grid -= int(N/2)                         # Setter bakgrunnsverdien til å være -N for å få synlighet blant lave N\n",
    "    for monomerNumber in range(N):\n",
    "        x = int(polymer[monomerNumber, 0])  \n",
    "        y = int(polymer[monomerNumber, 1])\n",
    "        grid[y,x] = monomerNumber + 1\n",
    "    plt.pcolormesh(grid)\n",
    "    plt.show()"
   ]
  },
  {
   "cell_type": "markdown",
   "metadata": {},
   "source": [
    "## e)"
   ]
  },
  {
   "cell_type": "code",
   "execution_count": null,
   "metadata": {},
   "outputs": [],
   "source": []
  }
 ],
 "metadata": {
  "kernelspec": {
   "display_name": "Python 3.10.11 64-bit",
   "language": "python",
   "name": "python3"
  },
  "language_info": {
   "codemirror_mode": {
    "name": "ipython",
    "version": 3
   },
   "file_extension": ".py",
   "mimetype": "text/x-python",
   "name": "python",
   "nbconvert_exporter": "python",
   "pygments_lexer": "ipython3",
   "version": "3.10.11"
  },
  "orig_nbformat": 4,
  "vscode": {
   "interpreter": {
    "hash": "aee8b7b246df8f9039afb4144a1f6fd8d2ca17a180786b69acc140d282b71a49"
   }
  }
 },
 "nbformat": 4,
 "nbformat_minor": 2
}
