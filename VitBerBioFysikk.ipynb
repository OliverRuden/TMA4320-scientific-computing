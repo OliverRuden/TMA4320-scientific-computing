{
 "cells": [
  {
   "cell_type": "markdown",
   "metadata": {},
   "source": [
    "# TMA4320 Biophysics project\n",
    "### Oliver Ruden, Åsmund Mjøs & Astrid Mysterud"
   ]
  },
  {
   "cell_type": "markdown",
   "metadata": {},
   "source": [
    "Polymers are the building blocks of DNA, RNA and proteins. Polymers themselves consist of repeating units called monomers. In this project, polymers will be represented numerically in order to make energy calculations as the polymers rotate around their monomers. FORTSETTELSE INNTRODUKSJON.\n",
    "\n",
    "(Kommentere på at følgende setning svarer på 1a?) A polymer with $N$ monomers will be represented by a $N\\times 2$-array containing the $N$ sets of $x$- and $y$-coordinates of their monomers. The polymer is visualized in an $N\\times N$-grid with the origin placed in the bottom left corner.\n",
    "\n",
    "The following function $\\texttt{createPolymer}$, as described in task 1b), recieves the argument $N$ and returns a polymer of size $N$ shaped as a horizontal line. To determine the $y$-coordinate, integer division is used. "
   ]
  },
  {
   "cell_type": "code",
   "execution_count": 45,
   "metadata": {},
   "outputs": [],
   "source": [
    "# First, we import necessary libaries\n",
    "import numpy as np\n",
    "import matplotlib.pyplot as plt\n",
    "from numba import jit\n",
    "import timeit\n",
    "plt.rcParams.update({'font.size': 20}) # change font-size of the plot"
   ]
  },
  {
   "cell_type": "code",
   "execution_count": 26,
   "metadata": {},
   "outputs": [],
   "source": [
    "def createPolymer(N):\n",
    "    polymer = np.zeros((N, 2))                             # initialize an Nx2-array to represent the polymer\n",
    "    polymer[:, 1] = N // 2                                 # place same y-coordinate for all monomers\n",
    "    polymer[:, 0] = np.array([x for x in range(N)])        # place x-coordinat\n",
    "    return polymer                                         # returns polymer shaped as a horizontal line"
   ]
  },
  {
   "cell_type": "markdown",
   "metadata": {},
   "source": [
    "To answer task **1c)** In order to follow the rules that determines valid polymers, the energy will remain unchanged after a rotation around an endpoint. The energy of a polymer is determined by *noe* between its monomers. When a polymers is rotated around an endpoint, its monomers does not recieve any new neighbours and as a result the energy of the polymer does not change. \n",
    "\n",
    "In algorithm 1 and 2 from the project description, we are to choose a random monomer to rotate around. To decrease the run time of the code, we've decided not to include the edge monomers, since this does not change the *noe* of the monomer.\n",
    "\n",
    "The following code implements a function that visualizes the polymer, as asked for in task **1d)**. The polymer is shown in the yellow/green squares. In the $N\\times N$-grid *hvor polymeret er*, we change the background value to $-N/2$ to *framheve* our polymer (to be able to uniquely identify monomers). Monomers with small indices are represented by *en farge*, while monomers with greater indices are represented by *en annen farge*. We illustrate it in a $(N+1)\\times (N+1)$-grid, because *denne grunnen*. "
   ]
  },
  {
   "cell_type": "code",
   "execution_count": 27,
   "metadata": {},
   "outputs": [],
   "source": [
    "def illustratePolymer(polymer):\n",
    "    N = len(polymer)                               # calculate the size of the input polymer\n",
    "    grid = np.zeros((N + 1, N + 1))                # initialize an (N+1) * (N+1) grid\n",
    "    grid -= N//2                               # set background value to -N / 2 for a better visualization of monomers with small indices\n",
    "\n",
    "    for monomerNumber in range(N):                 # loop through all monomers of the input polymer\n",
    "        x = int(polymer[monomerNumber, 0])         # collect x-coordinate of the monomer\n",
    "        y = int(polymer[monomerNumber, 1])         # collect y-coordinate of the monomer\n",
    "        grid[y, x] = monomerNumber + 1             # set the value of the point (x, y) in the grid to the index of the monomer + 1 (i.e. start at 1)\n",
    "\n",
    "    plt.pcolormesh(grid)\n",
    "    plt.show()"
   ]
  },
  {
   "cell_type": "markdown",
   "metadata": {},
   "source": [
    "While rotating a polymer around its monomers, one easily ends up with a polymer that does not meet the requirements as listed in task **1e)**. The following function receives a polymer and its size $N$, and checks whether it is valid or not. The function $\\texttt{validPolymer}$ returns $\\texttt{True}$ if the polymer is valid, and $\\texttt{False}$ otherwise. To make sure that no monomers have the same coordinates, we initialize the set $\\texttt{coordinateSet}$, where we add the monomer-coordinates as we loop through the monomers of the polymer. Once a monomer with already taken coordinates is encountered, $\\texttt{validPolymer}$ returns $\\texttt{False}$. If a monomer has unique coordinates $(x, y)$, the tuple $(x, y)$ is added to $\\texttt{coordinateSet}$."
   ]
  },
  {
   "cell_type": "code",
   "execution_count": 28,
   "metadata": {},
   "outputs": [],
   "source": [
    "def validPolymer(polymer, N):\n",
    "    if len(polymer) != N:                                      # check if the length of the polymer does not match the input length\n",
    "        return False\n",
    "    \n",
    "    coordinateSet = set()                                      # initialize empty set\n",
    "    coordinateSet.add((polymer[0, 0], polymer[0, 1]))          # add x- and y-coordinate of the first monomer\n",
    "\n",
    "    for monomerNumber in range(1, N):                          # loop through the remaining monomers of the polymer\n",
    "\n",
    "        if (polymer[monomerNumber, 0], polymer[monomerNumber, 1]) in coordinateSet: # check if the monomers coordinates are taken by a preceding monomer\n",
    "            return False                                                            \n",
    "        else: \n",
    "            coordinateSet.add((polymer[monomerNumber, 0], polymer[monomerNumber, 1])) # if the coordinates are unique, add them to coordinateSet\n",
    "\n",
    "        xDiff = np.abs(polymer[monomerNumber, 0] - polymer[monomerNumber - 1, 0])     # x-distance to the preceding monomer\n",
    "        yDiff = np.abs(polymer[monomerNumber, 1] - polymer[monomerNumber - 1, 1])     # y-distance to the preceding monomer\n",
    "        if xDiff + yDiff != 1:    # if the sum of the x- and y-distance to the preceding monomer is not 1, the preceding monomer is not its neighbour\n",
    "            return False          \n",
    "        \n",
    "    return True    "
   ]
  },
  {
   "cell_type": "markdown",
   "metadata": {},
   "source": [
    "Next code block implements the function described in task **1f)**. The function $\\texttt{rotatePolymer}$ receives an input polymer and a monomer which the polymer will rotate around. $\\texttt{rotatePolymer}$ also receives a boolean $\\texttt{positiveDirection}$. $\\texttt{positiveDirection=True}$ rotates the polymer in the positive direction, while $\\texttt{positiveDirection=False}$ rotates the polymer in the negative direction. \n",
    "\n",
    "The placement of each monomer in the polymer after a rotation around a monomer $m_{rot}$, is determined by it's relative distance in $x$-direction $\\Delta x$ to $m_{rot}$ and it's relative distance in $y$-direction $\\Delta y$ to $m_{rot}$. We look at the monomers positions relative to $m_{rot}$ as free vectors, and since we will either be rotating them in positive or negative direction, we can simply multiply by the rotation matrix, either positive direction, or negative direction.\n",
    "\n",
    "In positive rotation, the original vector $(1,0)$ will go to $(0,1)$ and the vector $(0,1)$ will go to $(-1,0)$. In negative rotation, the original vector $(1,0)$ will go to $(0,-1)$ and $(0,1)$ will go to $(1,0)$ in negative rotation. This is essentially all the information we need to implement rotation, since rotation is a linear operation, and these two vectors are orthonormal basis for $\\mathbb{R}^2$.\n"
   ]
  },
  {
   "cell_type": "code",
   "execution_count": 29,
   "metadata": {},
   "outputs": [],
   "source": [
    "def rotatePolymer(polymer, monomer, positiveDirection):\n",
    "    monomer -= 1                                            # subtract 1 from the monomerNumber, as the polymer-array is zero-indexed\n",
    "    middleMonomer = len(polymer) // 2                       # find monomerNumber of the middle monomer in the polymer\n",
    "    x, y = polymer[monomer]                                 # collect x- and y-coordinates of the monomer the polymer will rotate around\n",
    "    newPolymer = np.zeros((len(polymer),2))                 # initialize a new polymer, because working inplace changed *noe*\n",
    "\n",
    "    if middleMonomer > monomer:\n",
    "        newPolymer[monomer:] = polymer[monomer:]\n",
    "        newPolymer[:monomer, 0] = (2 * positiveDirection - 1) * (polymer[:monomer, 1] - y) + x\n",
    "        newPolymer[:monomer, 1] = (1 - 2 * positiveDirection) * (polymer[:monomer, 0] - x) + y\n",
    "        \"\"\"\n",
    "        Positive direction:\n",
    "        delta x = delta y\n",
    "        delta y = - delta x\n",
    "        Negative direction:\n",
    "        delta x = - delta y\n",
    "        delta y = delta x\n",
    "\n",
    "        Also uses that True is represented as 1 and False as 0.\n",
    "        \"\"\"\n",
    "        return newPolymer\n",
    "    newPolymer[:monomer+1] = polymer[:monomer+1]\n",
    "    newPolymer[monomer+1:,0] = (1-2*positiveDirection)*(polymer[monomer+1:,1]-y)+x\n",
    "    newPolymer[monomer+1:,1] = (2*positiveDirection-1)*(polymer[monomer+1:,0]-x)+y\n",
    "    \"\"\"\n",
    "        Positive direction:\n",
    "        delta y = delta x\n",
    "        delta x = - delta y\n",
    "        Negative direction:\n",
    "        delta y = - delta x\n",
    "        delta x = delta y\n",
    "    \"\"\"\n",
    "    return newPolymer"
   ]
  },
  {
   "cell_type": "markdown",
   "metadata": {},
   "source": [
    "## g)\n",
    "Her roterer vi masse"
   ]
  },
  {
   "cell_type": "code",
   "execution_count": 30,
   "metadata": {},
   "outputs": [],
   "source": [
    "@jit\n",
    "def rotateNTimes(N, Ns):\n",
    "    rotationsMade = 0\n",
    "    polymer = createPolymer(N)\n",
    "\n",
    "    for i in range(Ns):\n",
    "        monomer = np.random.randint(2, N)\n",
    "        positivRetning = np.random.choice([True, False])\n",
    "\n",
    "        twistedPolymer = rotatePolymer(polymer, monomer, positivRetning)\n",
    "        if validPolymer(twistedPolymer, N):\n",
    "            rotationsMade += 1\n",
    "            polymer = twistedPolymer\n",
    "\n",
    "    return polymer, rotationsMade"
   ]
  },
  {
   "cell_type": "markdown",
   "metadata": {},
   "source": [
    "# h)\n",
    "One of the main problems within the computation time as of now is the time it takes to rotate the polymer. With the implementation we have used up to now, we split the cases so that we always only rotate the shorter side of the polymer. Thus on average, the length of the chain we rotate will be N/2*½ = N/4. As we change both the x and the y value for each of these every time, we alter N/2 numbers on average each time. To lower this number, we reimplement the structure of the polymere. Instead of having an $N\\times 2$ array which tracks the polymers coordinates, we use the fact that the polymer must be connected. \n",
    "\n",
    "Thus, we create our own object called Middle, which tracks the x and y coordinates of the middle and also contains two arrays. The first, called beforeMiddle, is of length number of monomers left of the middle, and it contains a singular element in each slot, namely the direction the next monomer is, relative to where one came from. 0 means straight forward, 1 means to the right and 3 means to the left. Similarly, afterMiddle does the same for the right side, just that 2 means straight forward, 1 means to the left and 3 means to the right. Finally, we have also assigned Middle with a map, just to easily keep the data together, the map maps from direction number to correct movement in the cartesian plane. \n",
    "\n",
    "This new implementation speeds up the rotation algorithm, as instead of changing on average N/2 datapoints, we only need to rotate one “pointer”, as then the relative distance for all points more extreme will also be moved. Furthermore, this also keeps the invaluable property that the middle always is in the center, as all pointers point from the center to the extremes. This was made possible by changing the polymer in-place, and thus avoiding copying the entire array. To change the polymer in-place was made possible by implementing an else in the rotateManyTimes. If the new polymer wasn’t legal, one would just rotate the polymer on the same monomer in the other direction. To do things like illustrate the polymer, we just start from the middle and illustrate each end by keeping track of the position we are at, which way we look and which way the pointer wants us to move. Thus, we can always construct the appropriate x and y coordinates in linear time, which is more than fast enough as all algorithms that need the x and y coordinates use linear time regardless, and results tell us that the algorithms that take linear time like for instance to check if a polymer is valid, often operate faster with the new implementation. As can be observed in the following code, this new implementation almost halves the computational time of rotateManyTimes.\n"
   ]
  },
  {
   "cell_type": "code",
   "execution_count": 2,
   "metadata": {},
   "outputs": [],
   "source": [
    "class Middle:\n",
    "    def __init__(self, x, y, N):\n",
    "        self.position = np.array([x,y]) #Position of the middle\n",
    "        self.beforeMiddle = np.array([0 for i in range(N//2)]) #Venstre siden av arrayet\n",
    "        self.afterMiddle = np.array([2 for i in range((N-1)//2)]) # Høyre siden av arrayet\n",
    "        self.map = {0:np.array([0,-1]), 1:np.array([1,0]), 2:np.array([0,1]),3:np.array([-1,0])} # Map of direction to Cartesian-coordinates change\n",
    "\n",
    "\"\"\"\n",
    "1 b) This is a new createPolymer designed around the new implementation of a polymer\n",
    "\"\"\"\n",
    "def createPolymerVer2(N):\n",
    "    middle = Middle(N//2, N//2, N)    # Initializes the class\n",
    "    return middle\n",
    "\"\"\"\n",
    "1 d) This is a new way to illustrate the polymer using the same principles as above but with the new implementation in mind\n",
    "\"\"\"\n",
    "def illustrationPolymerVer2(polymer):\n",
    "    N = len(polymer.beforeMiddle) + len(polymer.afterMiddle) + 1        \n",
    "    grid = np.zeros((N+1,N+1))        # Creates (N+1)*(N+1) grid\n",
    "    grid -= N//2                         # Sets the backgroundvalue to -N/2 rounded down\n",
    "    index = N//2\n",
    "    position = np.copy(polymer.position)\n",
    "    direction = 0\n",
    "    for firstMonomers in range(index-1,-1,-1):\n",
    "        direction = (direction + polymer.beforeMiddle[firstMonomers])%4\n",
    "        position += polymer.map[direction]\n",
    "        grid[position[0],position[1]] = firstMonomers + 1\n",
    "    direction = 2\n",
    "    position = np.copy(polymer.position)\n",
    "    grid[position[0],position[1]] = index + 1\n",
    "    for secondMonomers in range(0, len(polymer.afterMiddle)):\n",
    "        direction = (direction + polymer.afterMiddle[secondMonomers]-2)%4\n",
    "        position += polymer.map[direction]\n",
    "        grid[position[0],position[1]] = secondMonomers+ index + 2\n",
    "    plt.pcolormesh(grid)\n",
    "    plt.show()\n",
    "\n",
    "\"\"\"\n",
    "1 e) Checks if the polymer is intact and legal\n",
    "\"\"\"\n",
    "\n",
    "def validPolymerVer2(polymer, N):\n",
    "    if len(polymer.beforeMiddle) + len(polymer.afterMiddle) + 1 != N: #Is the polymer of correct length\n",
    "        return False\n",
    "    coordinateSet = set()\n",
    "    coordinateSet.add((polymer.position[0], polymer.position[1]))\n",
    "    index = N//2\n",
    "    position = np.copy(polymer.position)\n",
    "    direction = 0\n",
    "    #Test before middle array\n",
    "    for firstMonomers in range(index-1,-1,-1):\n",
    "        if polymer.beforeMiddle[firstMonomers] not in polymer.map: #Check if the direction stored is valid (between 0 and 3 inclusive), thus that they are consecutive\n",
    "            return False\n",
    "        direction = (direction + polymer.beforeMiddle[firstMonomers])%4\n",
    "        position += polymer.map[direction]\n",
    "        if (position[0],position[1]) in coordinateSet: #Checks if there exists an overlap of coordinates\n",
    "            return False\n",
    "        else:\n",
    "            coordinateSet.add((position[0],position[1]))\n",
    "    direction = 2\n",
    "    position = np.copy(polymer.position)\n",
    "    #Test after middle array, note that an overlap between before and after arrays will still be discovered\n",
    "    for secondMonomers in range(0,len(polymer.afterMiddle)):\n",
    "        if polymer.afterMiddle[secondMonomers] not in polymer.map: #Check if the direction stored is valid (between 0 and 3 inclusive), thus that they are consecutive\n",
    "            return False\n",
    "        direction = (direction + polymer.afterMiddle[secondMonomers]-2)%4\n",
    "        position += polymer.map[direction]\n",
    "        if (position[0],position[1]) in coordinateSet: #Checks if there exists an overlap of coordinates\n",
    "            return False\n",
    "        else:\n",
    "            coordinateSet.add((position[0],position[1]))\n",
    "    return True\n",
    "\n",
    "\"\"\"\n",
    "1 f) Implementation of rotation, as previously, the middle rounded upwards is kept at a constant position\n",
    "\"\"\"\n",
    "def rotationGoBrrrrVer2(polymer, monomer, positivRetning):\n",
    "    \"\"\"\n",
    "    Note that neither the first nor the last monomer in the polymer is represented in the array, and that also we call the monomers by 1-indexing\n",
    "    Thus we need to subtract two to both account for the first monomer not being in the array, and also for that we go from 1-indexing to 0-indexing\n",
    "    \"\"\"\n",
    "    monomer -= 2\n",
    "    middleMonomer = len(polymer.beforeMiddle)-1 #Finds the middle rounded up \n",
    "    if middleMonomer > monomer: #Checks if we are before the middle\n",
    "        polymer.beforeMiddle[monomer] = (polymer.beforeMiddle[monomer] + 2*positivRetning-1) % 4\n",
    "        \"\"\"\n",
    "        Positive direction:\n",
    "        direction = direction + 1\n",
    "        Negative Direction:\n",
    "        direction = direction - 1\n",
    "        \n",
    "        Then readjust so that for instance right from pointing downwards is left, not an undefined value\n",
    "\n",
    "        Follows from that the direction number increases in the negative direction\n",
    "        \"\"\"\n",
    "        return polymer\n",
    "    polymer.afterMiddle[monomer-middleMonomer] = (polymer.afterMiddle[monomer-middleMonomer] - 2*positivRetning+1) % 4\n",
    "    \"\"\"\n",
    "    Positive direction:\n",
    "    direction = direction - 1\n",
    "    Negative Direction:\n",
    "    direction = direction + 1\n",
    "\n",
    "    Then readjust so that for instance right from pointing downwards is left, not an undefined value\n",
    "\n",
    "    Follows from that the direction number increases in the negative direction\n",
    "    \"\"\"\n",
    "    return polymer\n",
    "\n",
    "\"\"\"\n",
    "1 g) This is the reimplementation of the similar algorithm above, with the key difference being what happens when a rotation doesn't work.\n",
    "Here we undo the rotation by giving the same polymer and monomer, just the opposite rotation direction. This is necessary as we edit the polymer\n",
    "in place, and thus can't just discard the changes. \n",
    "\"\"\"\n",
    "def rotateManyTimesVer2(N, Ns):\n",
    "    rotationsMade = 0\n",
    "    polymer = createPolymerVer2(N)\n",
    "\n",
    "    for i in range(Ns):\n",
    "        monomer = np.random.randint(2, N)\n",
    "        positivRetning = np.random.randint(0,2)\n",
    "\n",
    "        polymer = rotationGoBrrrrVer2(polymer, monomer, positivRetning)\n",
    "        if validPolymerVer2(polymer, N):\n",
    "            rotationsMade += 1\n",
    "        else:\n",
    "            polymer = rotationGoBrrrrVer2(polymer,monomer,(positivRetning+1)%2)\n",
    "\n",
    "    return polymer, rotationsMade\n",
    "\n",
    "\"\"\"\n",
    "Here is a comparrison of the old rotateManyTimes and rotateManyTimesVer2\n",
    "\"\"\"\n",
    "%timeit rotateManyTimes(150, 10000)\n",
    "%timeit rotateManyTimesVer2(150,10000)"
   ]
  },
  {
   "cell_type": "markdown",
   "metadata": {},
   "source": [
    "The function $\\texttt{rotateNTimes}$ receives the argument $\\texttt{Ns}$, which is the number of rotations we wish to complete. However, since we encounter several non-valid polymers while rotating many times, we want to see how many of those $\\texttt{Ns}$ rotations actually resulted in valid polymers. $\\texttt{rotateNTimes}$ returns $\\texttt{rotationsMade}$, which tells us how many rotations resulted in a valid polymer. The following function, as described in **1i)**, plots the percentage of valid rotations as a function of the size $N$ of the polymer. $\\texttt{plotValidPercentage}$ receives $\\texttt{minSize}$ and $\\texttt{maxSize}$, which are the minimum and maximum sizes of the polymers we are to rotate. $\\texttt{minSize}$ and $\\texttt{maxSize}$ are by default set to $10$ and $500$, respectively. $\\texttt{plotValidPercentage}$ also has the input $\\texttt{NsArray}$, which is an array of the different $\\texttt{Ns}$ we want to test. $\\texttt{NsArray}$ is default set to $1000$ rotations."
   ]
  },
  {
   "cell_type": "code",
   "execution_count": 67,
   "metadata": {},
   "outputs": [
    {
     "data": {
      "image/png": "[encoded data removed]",
      "text/plain": [
       "<Figure size 720x504 with 1 Axes>"
      ]
     },
     "metadata": {
      "needs_background": "light"
     },
     "output_type": "display_data"
    }
   ],
   "source": [
    "def plotValidPercentage(minSize = 10, maxSize = 500, NsArray = np.array([1000])):\n",
    "    sizes = np.arange(minSize, maxSize + 1, 10)     # array of the sizes of the polymers we are to rotate\n",
    "    intSizes = sizes.astype(int)                    # making sure that the sizes are integers\n",
    "\n",
    "    plt.figure(figsize = (10, 7))                   # adjust the size\n",
    "    for Ns in NsArray:\n",
    "        validRotations = np.array([rotateNTimes(N, Ns)[1] for N in intSizes])    # collects the number of valid rotations made for the different sizes\n",
    "        plt.plot(intSizes, (validRotations / Ns) * 100, label = f'Ns = {Ns}')    # plots percentage of valid rotations\n",
    "\n",
    "    plt.xlabel(r'Polymer Size $N$')\n",
    "    plt.ylabel('Percentage of Valid Rotations')\n",
    "    plt.title('Valid Rotations Made as a Function of Polymer Size $N$') \n",
    "    plt.legend()\n",
    "    plt.show()\n",
    "\n",
    "# plotValidPercentage(10, 100, np.array([500, 1000, 100000]))"
   ]
  },
  {
   "cell_type": "markdown",
   "metadata": {},
   "source": [
    "*Diskusjon av Ns*\n",
    "With $\\texttt{Ns=1000}$ for polymers of size between $\\texttt{minSize=10}$ and $\\texttt{maxSize=500}$, the plot above shows that we achieve more valid rotations for smaller $N$. However, at around $N=100$ the percentage of valid rotations stabilizes between $40\\%$ and $47.5\\%$. By increasing $\\texttt{Ns}$, we get the following result."
   ]
  },
  {
   "cell_type": "markdown",
   "metadata": {},
   "source": [
    "As described in task **1j)**, we now implement energy calculations. The following function $\\texttt{calculateEnergy}$ receives a polymer and a matrix $V$. The matrix $V$ is, as described in the project description, a symmetric matrix that contains the strengths of the interactions between monomers.\n",
    "\n",
    "*Mer om V*"
   ]
  },
  {
   "cell_type": "code",
   "execution_count": 13,
   "metadata": {},
   "outputs": [],
   "source": [
    "def calculateEnergy(polymer, V):\n",
    "    energy = 0\n",
    "    neighbourDictionary = {}\n",
    "    direction = [[0,1], [0,-1], [1,0], [-1,0]]\n",
    "\n",
    "    for index, coordinates in enumerate(polymer):\n",
    "        cordTuple = (coordinates[0], coordinates[1])\n",
    "        if cordTuple in neighbourDictionary:\n",
    "            for n in neighbourDictionary[cordTuple]:\n",
    "                energy += V[index][n]\n",
    "        for i in direction:\n",
    "            temp = (coordinates[0]+i[0],coordinates[1]+i[1])\n",
    "            if temp in neighbourDictionary:\n",
    "                neighbourDictionary[temp].append(index)\n",
    "            else:\n",
    "                neighbourDictionary[temp] = [index]\n",
    "    return energy\n",
    "\n",
    "def makeDiagonalForceArray(N, background_value):\n",
    "    V = np.zeros((N,N))+background_value\n",
    "    for i in range(N):\n",
    "        V[i,i] = 0\n",
    "        if i > 0:\n",
    "            V[i,i-1] = 0\n",
    "            V[i-1,i] = 0\n",
    "    return V\n",
    "\n",
    "# N = 15\n",
    "# V = makeDiagonalForceArray(N, -4*10**(-21))\n",
    "# pol, rot = rotateManyTimes(N,1000)\n",
    "# illustrationPolymer(pol)\n",
    "# print(calculateEnergy(pol, V))"
   ]
  },
  {
   "cell_type": "markdown",
   "metadata": {},
   "source": [
    "# 2a)"
   ]
  },
  {
   "cell_type": "code",
   "execution_count": 15,
   "metadata": {},
   "outputs": [],
   "source": [
    "k_b = 1.38 * 10 ** (-23)\n",
    "def calculateDiameterDepresso(polymer):\n",
    "    maxDist = 0\n",
    "    for i in range(len(polymer)):\n",
    "        for j in range(i+1, len(polymer)):\n",
    "            s = np.sum((polymer[i]-polymer[j])**2)\n",
    "            if s > maxDist:\n",
    "                maxDist = s\n",
    "    return np.sqrt(maxDist)\n",
    "\n",
    "# def calculateDiameterNotSoDepresso(polymer):                    #This is with convex hull, but doesn't seem to work cause the points are to colinear\n",
    "\n",
    "#     # Compute the convex hull of the points\n",
    "#     hull = ConvexHull(polymer)\n",
    "\n",
    "#     # Initialize maximum distance to zero\n",
    "#     max_distance = 0.0\n",
    "\n",
    "#     # Iterate through all pairs of vertices in the convex hull\n",
    "#     for i in range(len(hull.vertices)):\n",
    "#         for j in range(i + 1, len(hull.vertices)):\n",
    "#             distance = np.linalg.norm(polymer[hull.vertices[i]] - polymer[hull.vertices[j]])\n",
    "#             if distance > max_distance:\n",
    "#                 max_distance = distance\n",
    "\n",
    "#     # Return the maximum distance\n",
    "#     return max_distance\n",
    "\n",
    "def metropolisalgoritmen(polymer, V, Ns, T, includeDiamter = False):\n",
    "    E_array=np.zeros(Ns)\n",
    "    E = calculateEnergy(polymer, V)\n",
    "    if includeDiamter:\n",
    "        d_array=np.zeros(Ns)\n",
    "        d = calculateDiameterDepresso(polymer)\n",
    "    i=0\n",
    "    N=len(polymer)    \n",
    "    beta = 1/(k_b*T)\n",
    "    E_array[0]=E\n",
    "    while i<Ns-1:\n",
    "        newpolymer = rotatePolymer\n",
    "        (polymer, np.random.randint(2, N), np.random.randint(0,2))\n",
    "        if validPolymer(newpolymer,N):\n",
    "            i+=1\n",
    "            E_new=calculateEnergy(newpolymer, V)\n",
    "            if includeDiamter:\n",
    "                d_new = calculateDiameterDepresso(newpolymer)\n",
    "            if E_new < E:\n",
    "                polymer = newpolymer\n",
    "                E = E_new\n",
    "                if includeDiamter:\n",
    "                    d = d_new\n",
    "            elif np.random.uniform() < np.exp(-beta*(E_new-E)):\n",
    "                polymer = newpolymer\n",
    "                E = E_new\n",
    "                if includeDiamter:\n",
    "                    d = d_new\n",
    "            E_array[i] = E\n",
    "            if includeDiamter:\n",
    "                d_array[i] = d\n",
    "\n",
    "    if includeDiamter:\n",
    "        return polymer, E_array, d_array\n",
    "\n",
    "    return polymer, E_array"
   ]
  },
  {
   "cell_type": "markdown",
   "metadata": {},
   "source": [
    "# 2b)"
   ]
  },
  {
   "cell_type": "code",
   "execution_count": 5,
   "metadata": {},
   "outputs": [],
   "source": [
    "def plotEnergy(polymer, V, Ns, T):\n",
    "    E_array = metropolisalgoritmen(polymer, V, Ns, T)[1]\n",
    "    plt.rcParams.update({'font.size': 20})\n",
    "    plt.figure(figsize = (10, 7))\n",
    "    plt.plot(E_array, label = 'Energi')\n",
    "    plt.xlabel(r'Monte Carlo-steg $t$')\n",
    "    plt.ylabel('Energi')\n",
    "    plt.title('Energi som funksjon av Monte Carlo-steg')\n",
    "    plt.show()\n",
    "\n",
    "N = 30\n",
    "V = np.zeros((N,N))-4*10**(-21)\n",
    "for i in range(N):\n",
    "    V[i,i] = 0\n",
    "    if i > 0:\n",
    "        V[i,i-1] = 0\n",
    "    if i < N-1:\n",
    "        V[i+1,i] = 0"
   ]
  },
  {
   "cell_type": "markdown",
   "metadata": {},
   "source": [
    "# 2c)"
   ]
  },
  {
   "cell_type": "code",
   "execution_count": 16,
   "metadata": {},
   "outputs": [],
   "source": [
    "def illustrationOfOnePolymer(polymer):              # Returnerer Grid\n",
    "    N = len(polymer)                 \n",
    "    grid = np.zeros((N+1,N+1))        # Lager (N+1)*(N+1) grid\n",
    "    grid -= int(N/2)                         # Setter bakgrunnsverdien til å være -N for å få synlighet blant lave N\n",
    "    for monomerNumber in range(N):\n",
    "        x = int(polymer[monomerNumber, 0])  \n",
    "        y = int(polymer[monomerNumber, 1])\n",
    "        grid[y,x] = monomerNumber + 1        # Setter første monomer-verdi til å være 1\n",
    "    return grid\n",
    "\n",
    "def multiplePlotsPolymers(polymer1,polymer2, title1,title2):\n",
    "\n",
    "    #Sublot 1\n",
    "    grid_1 = illustrationOfOnePolymer(polymer1)\n",
    "    plt.subplot(1,2,1)\n",
    "    plt.title(title1)\n",
    "    plt.pcolormesh(grid_1)\n",
    "\n",
    "    #Subplot 2\n",
    "    grid_2 = illustrationOfOnePolymer(polymer2)\n",
    "    plt.subplot(1,2,2)\n",
    "    plt.title(title2)\n",
    "    plt.pcolormesh(grid_2)\n",
    "\n",
    "    plt.show()\n",
    "\n",
    "# V=makeDiagonalForceArray(30,-4*10**(-21))\n",
    "# polymer_high_temp, E_array_high_temp=metropolisalgoritmen(createPolymer(30),V,5000,350)\n",
    "# polymer_low_temp, E_array_low_temp=metropolisalgoritmen(createPolymer(30),V,5000,75)\n",
    "# multiplePlotsPolymers(polymer_high_temp, polymer_low_temp, \"High temperature polymer\", \"Low temperature polymer\")\n",
    "\n",
    "# illustrationPolymer(polymer)\n",
    "# print(E_array[-1])"
   ]
  },
  {
   "cell_type": "markdown",
   "metadata": {},
   "source": [
    "# 2d)"
   ]
  },
  {
   "cell_type": "code",
   "execution_count": 17,
   "metadata": {},
   "outputs": [],
   "source": [
    "def createFunkyPotential(N, generalValue, scaling, tuplesToScale):\n",
    "    potential = np.zeros((N,N))+generalValue\n",
    "    for i in range(N):\n",
    "        potential[i,i] = 0\n",
    "        if i > 0:\n",
    "            potential[i-1,i] = 0\n",
    "            potential[i,i-1] = 0\n",
    "    for tup in tuplesToScale:\n",
    "        potential[tup] = generalValue*scaling\n",
    "        potential[tup[1],tup[0]] = generalValue*scaling\n",
    "    return potential\n",
    "# N = 15\n",
    "# V = createFunkyPotential(N,-4*10**(-21), 100, [(0,N-1),(1,N-2),(2,N-3),(3,N-4),(4,N-5),(N-1,N-4)])\n",
    "# pol, array = metropolisalgoritmen(createPolymer(N), V, 100, 50)\n",
    "# print(calculateEnergy(pol,V))\n",
    "# print(min(array))\n",
    "# illustrationPolymer(pol)\n",
    "\n",
    "# print(timeit.timeit('rotateManyTimes(150,10000)', \"from __main__ import rotateManyTimes\", number = 10))"
   ]
  },
  {
   "cell_type": "markdown",
   "metadata": {},
   "source": [
    "# 2e)"
   ]
  },
  {
   "cell_type": "code",
   "execution_count": 8,
   "metadata": {},
   "outputs": [],
   "source": [
    "def computeAverageEnergyAndSTD(V, T, Ns=1500, N=30):\n",
    "    polymer = createPolymer(N)\n",
    "    _, energy = metropolisalgoritmen(polymer, V, Ns, T)\n",
    "    importantEnergy = energy[1000:]\n",
    "    return np.average(importantEnergy), np.std(importantEnergy, ddof=1)\n",
    "\n",
    "def plotExpectedAndSTDEnergy(V,lowTemp, highTemp, TempStep, Ns=1500, N=30):\n",
    "    TempArray = np.arange(lowTemp,highTemp,TempStep)\n",
    "    expectedValue, standardDeviation = np.zeros(len(TempArray)), np.zeros(len(TempArray))\n",
    "    for temp_index in range(len(TempArray)):\n",
    "        expectedValue[temp_index], standardDeviation[temp_index] = computeAverageEnergyAndSTD(V, TempArray[temp_index], Ns, N)\n",
    "    plt.errorbar(TempArray, expectedValue, yerr = standardDeviation)\n",
    "    plt.show()\n",
    "\n",
    "# plotExpectedAndSTDEnergy(V, lowTemp=10,highTemp=1000,TempStep=30)"
   ]
  },
  {
   "cell_type": "markdown",
   "metadata": {},
   "source": [
    "# 2f)"
   ]
  },
  {
   "cell_type": "code",
   "execution_count": 19,
   "metadata": {},
   "outputs": [],
   "source": [
    "def plotEnergyLowTemp(V, T, Ns = 1500, N = 30):\n",
    "    plt.rcParams.update({'font.size': 20})\n",
    "    plt.figure(figsize = (10, 7))\n",
    "    for sim in range(10):\n",
    "        polymer = createPolymer(N)\n",
    "        _, energy = metropolisalgoritmen(polymer, V, Ns, T)\n",
    "        plt.plot(energy)\n",
    "\n",
    "    plt.xlabel(r'Monte Carlo-steg $t$')\n",
    "    plt.ylabel('Energi')\n",
    "    plt.title('Energi som funksjon av Monte Carlo-steg')\n",
    "    plt.show()\n",
    "\n",
    "# plotEnergyLowTemp(V, 20)"
   ]
  },
  {
   "cell_type": "markdown",
   "metadata": {},
   "source": [
    "# 2g)"
   ]
  },
  {
   "cell_type": "code",
   "execution_count": 22,
   "metadata": {},
   "outputs": [],
   "source": [
    "def computeAverageDiameterAndSTD(V, T, Ns=1500, N=30):\n",
    "    polymer = createPolymer(N)\n",
    "    _,_,diameter = metropolisalgoritmen(polymer, V, Ns, T, includeDiamter=True)\n",
    "    importantDiameter = diameter[1000:]\n",
    "    return np.average(importantDiameter), np.std(importantDiameter, ddof=1)\n",
    "\n",
    "def plotExpectedAndSTDDiameter(lowTemp, highTemp, TempStep, Ns=1500, N=30):\n",
    "    \n",
    "    V = np.zeros((N,N))\n",
    "    for i in range(N):\n",
    "        for j in range(i-1):\n",
    "          V[i,j]=(np.random.uniform(-6,-2))*10**(-21)\n",
    "\n",
    "    V=V+V.transpose()\n",
    "\n",
    "    TempArray = np.arange(lowTemp,highTemp,TempStep)\n",
    "    expectedValue, standardDeviation = np.zeros(len(TempArray)), np.zeros(len(TempArray))\n",
    "    for temp_index in range(len(TempArray)):\n",
    "        expectedValue[temp_index], standardDeviation[temp_index] = computeAverageDiameterAndSTD(V, TempArray[temp_index], Ns, N)\n",
    "    plt.errorbar(TempArray, expectedValue, yerr = standardDeviation)\n",
    "    plt.show()\n",
    "\n",
    "# plotExpectedAndSTDDiameter(lowTemp=10, highTemp=1000, TempStep=100, Ns=1500, N=10)\n",
    "\n",
    "# print(timeit.timeit('plotExpectedAndSTDDiameter(lowTemp=10, highTemp=1000, TempStep=30, Ns=2000, N=30)', \"from __main__ import plotExpectedAndSTDDiameter\", number = 1))"
   ]
  },
  {
   "cell_type": "markdown",
   "metadata": {},
   "source": [
    "# 2h)"
   ]
  },
  {
   "cell_type": "code",
   "execution_count": 11,
   "metadata": {},
   "outputs": [],
   "source": [
    "# kode!"
   ]
  }
 ],
 "metadata": {
  "kernelspec": {
   "display_name": "Python 3.10.11 64-bit",
   "language": "python",
   "name": "python3"
  },
  "language_info": {
   "codemirror_mode": {
    "name": "ipython",
    "version": 3
   },
   "file_extension": ".py",
   "mimetype": "text/x-python",
   "name": "python",
   "nbconvert_exporter": "python",
   "pygments_lexer": "ipython3",
   "version": "3.9.12"
  },
  "orig_nbformat": 4,
  "vscode": {
   "interpreter": {
    "hash": "aee8b7b246df8f9039afb4144a1f6fd8d2ca17a180786b69acc140d282b71a49"
   }
  }
 },
 "nbformat": 4,
 "nbformat_minor": 2
}
