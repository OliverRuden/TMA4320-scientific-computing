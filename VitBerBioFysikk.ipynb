{
 "cells": [
  {
   "cell_type": "code",
   "execution_count": 10,
   "metadata": {},
   "outputs": [],
   "source": [
    "import numpy as np;\n",
    "import matplotlib.pyplot as plt;"
   ]
  },
  {
   "cell_type": "markdown",
   "metadata": {},
   "source": [
    "### Oppgave 1)\n",
    "## a)\n",
    "\n",
    "## b)"
   ]
  },
  {
   "cell_type": "code",
   "execution_count": 11,
   "metadata": {},
   "outputs": [],
   "source": [
    "def createPolymer(N):\n",
    "    polymer = np.zeros((N, 2)) \n",
    "    polymer[:, 1] = N // 2                                     # setter y-koordinat\n",
    "    polymer[:, 0] = np.array([i for i in range(N)])          # setter x-koordinat\n",
    "    return polymer"
   ]
  },
  {
   "cell_type": "markdown",
   "metadata": {},
   "source": [
    "## c)\n",
    "Her lager vi polymeret vårt, det er representert i et N*2 diagram, og vi har valgt å holde fast opprunnet midten hvis relevant\n",
    "## d)\n",
    "Her lager vi illustrasjon av polymeret vårt, det er representert med farge, der sterkere farge er monomer med høyere nummer"
   ]
  },
  {
   "cell_type": "code",
   "execution_count": 12,
   "metadata": {},
   "outputs": [],
   "source": [
    "def illustrationPolymer(polymer):\n",
    "    N = len(polymer)                 \n",
    "    grid = np.zeros((N+1,N+1))        # Lager (N+1)*(N+1) grid\n",
    "    grid -= int(N/2)                         # Setter bakgrunnsverdien til å være -N for å få synlighet blant lave N\n",
    "    for monomerNumber in range(N):\n",
    "        x = int(polymer[monomerNumber, 0])  \n",
    "        y = int(polymer[monomerNumber, 1])\n",
    "        grid[y,x] = monomerNumber + 1\n",
    "    plt.pcolormesh(grid)\n",
    "    plt.show()"
   ]
  },
  {
   "cell_type": "markdown",
   "metadata": {},
   "source": [
    "## e)\n",
    "Sjekker om intakt polymer"
   ]
  },
  {
   "cell_type": "code",
   "execution_count": 13,
   "metadata": {},
   "outputs": [],
   "source": [
    "def validPolymer(polymer, N):\n",
    "    if len(polymer) != N:\n",
    "        return False\n",
    "    \n",
    "    coordinateSet = set()\n",
    "    coordinateSet.add((polymer[0, 0], polymer[0, 1]))\n",
    "\n",
    "    for index in range(1, N):\n",
    "        if (polymer[index, 0], polymer[index, 1]) in coordinateSet:         # sjekker om andre monomer har samme koordinat\n",
    "            return False\n",
    "        else: \n",
    "            coordinateSet.add((polymer[index, 0], polymer[index, 1]))\n",
    "\n",
    "        xDiff = np.abs(polymer[index, 0] - polymer[index - 1, 0])           # avstand i x til nabo-monomer\n",
    "        yDiff = np.abs(polymer[index, 1] - polymer[index - 1, 1])           # avstand i y til nabo-monomer\n",
    "\n",
    "        if xDiff + yDiff != 1:                                              \n",
    "            return False\n",
    "        \n",
    "    return True"
   ]
  },
  {
   "cell_type": "markdown",
   "metadata": {},
   "source": [
    "## f)\n",
    "Implementerer rotasjon ov polymeret, som nevnt tidligere holdes opprundet midten fast."
   ]
  },
  {
   "cell_type": "code",
   "execution_count": 15,
   "metadata": {},
   "outputs": [],
   "source": [
    "def rotationGoBrrrr(polymer, monomer, positivRetning):\n",
    "    monomer -= 1\n",
    "    middleMonomer = len(polymer)//2 #Finner midterste rundet opp, for å låse den...\n",
    "    x,y = polymer[monomer]\n",
    "    newPolymer = np.zeros((len(polymer),2)) #Lager et nytt polymer, fordi å jobbe inplace endret på dataen underveis\n",
    "    if middleMonomer > monomer:\n",
    "        newPolymer[monomer:] = polymer[monomer:]\n",
    "        newPolymer[:monomer,0] = (2*positivRetning-1)*(polymer[:monomer,1]-y)+x\n",
    "        newPolymer[:monomer,1] = (1-2*positivRetning)*(polymer[:monomer,0]-x) + y\n",
    "        \"\"\"\n",
    "        Positiv retning:\n",
    "        delta x = delta y\n",
    "        delta y = - delta x\n",
    "        Negativ retning:\n",
    "        delta x = - delta y\n",
    "        delta y = delta x\n",
    "\n",
    "        Bruker også at True kan brukes som 1 og False som 0\n",
    "        \"\"\"\n",
    "        return newPolymer\n",
    "    newPolymer[:monomer+1] = polymer[:monomer+1]\n",
    "    newPolymer[monomer+1:,0] = (1-2*positivRetning)*(polymer[monomer+1:,1]-y)+x\n",
    "    newPolymer[monomer+1:,1] = (2*positivRetning-1)*(polymer[monomer+1:,0]-x)+y\n",
    "    \"\"\"\n",
    "        Positiv retning:\n",
    "        delta y = delta x\n",
    "        delta x = - delta y\n",
    "        Negativ retning:\n",
    "        delta y = - delta x\n",
    "        delta x = delta y\n",
    "    \"\"\"\n",
    "    return newPolymer"
   ]
  },
  {
   "cell_type": "markdown",
   "metadata": {},
   "source": [
    "## g)\n",
    "Her roterer vi masse"
   ]
  },
  {
   "cell_type": "code",
   "execution_count": 16,
   "metadata": {},
   "outputs": [],
   "source": [
    "def rotateManyTimes(N, Ns):\n",
    "    rotationsMade = 0\n",
    "    polymer = createPolymer(N)\n",
    "\n",
    "    for i in range(Ns):\n",
    "        monomer = np.random.randint(2, N)\n",
    "        positivRetning = np.random.choice([True, False])\n",
    "\n",
    "        twistedPolymer = rotationGoBrrrr(polymer, monomer, positivRetning)\n",
    "        if validPolymer(twistedPolymer, N):\n",
    "            rotationsMade += 1\n",
    "            polymer = twistedPolymer\n",
    "\n",
    "    return polymer, rotationsMade"
   ]
  }
 ],
 "metadata": {
  "kernelspec": {
   "display_name": "Python 3.10.11 64-bit",
   "language": "python",
   "name": "python3"
  },
  "language_info": {
   "codemirror_mode": {
    "name": "ipython",
    "version": 3
   },
   "file_extension": ".py",
   "mimetype": "text/x-python",
   "name": "python",
   "nbconvert_exporter": "python",
   "pygments_lexer": "ipython3",
   "version": "3.10.11"
  },
  "orig_nbformat": 4,
  "vscode": {
   "interpreter": {
    "hash": "aee8b7b246df8f9039afb4144a1f6fd8d2ca17a180786b69acc140d282b71a49"
   }
  }
 },
 "nbformat": 4,
 "nbformat_minor": 2
}
