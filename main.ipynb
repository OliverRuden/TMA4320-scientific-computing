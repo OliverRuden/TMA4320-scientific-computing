{
 "cells": [
  {
   "cell_type": "markdown",
   "metadata": {},
   "source": [
    "# TMA4320 Industrial Mathematics Project\n",
    "### Oliver Ruden, Åsmund Mjøs & Astrid Mysterud"
   ]
  },
  {
   "cell_type": "markdown",
   "metadata": {},
   "source": [
    "Introduksjon"
   ]
  },
  {
   "cell_type": "markdown",
   "metadata": {},
   "source": [
    "## Oppgave 1"
   ]
  },
  {
   "cell_type": "markdown",
   "metadata": {},
   "source": [
    "1.1) La $a=31$, $b=7$ og $c=1$. Da blir $d=a\\cdot b+c=218$, slik at $x=[3,1,7,0,1,2,1]$ og $y=[2,1,8]$. Modellen gir oss $\\hat{z}=[\\hat{z}_0, \\ldots, \\hat{z}_6]=f_\\theta([3,1,7,0,1,2,1])$. Vi ønsker å finne $\\theta$ slik at $\\hat{y}=[\\hat{z}_4, \\hat{z}_5, \\hat{z}_6]=[2,1,8]$."
   ]
  },
  {
   "cell_type": "markdown",
   "metadata": {},
   "source": [
    "1.2) Vi har at\n",
    "\n",
    "\\begin{align*}\n",
    "    x^{(0)}=[3,1,7,0,1]\\quad\\quad[\\hat{z}_0^{(0)}, \\ldots, \\hat{z}_3^{(0)}]=f_\\theta(x^{(0)})\\\\\n",
    "    x^{(1)}=[3,1,7,0,1,\\hat{z}_3^{(0)}]\\quad\\quad[\\hat{z}_0^{(1)}, \\ldots, \\hat{z}_4^{(1)}]=f_\\theta(x^{(1)})\\\\\n",
    "    x^{(2)}=[3,1,7,0,1,\\hat{z}_3^{(0)}, \\hat{z}_4^{(1)}]\\quad\\quad[\\hat{z}_0^{(2)}, \\ldots, \\hat{z}_5^{(2)}]=f_\\theta(x^{(2)})\\\\\n",
    "    x^{(3)}=[3,1,7,0,1,\\hat{z}_3^{(0)}, \\hat{z}_4^{(1)}, \\hat{z}_5^{(2)}]\n",
    "\\end{align*}\n",
    "Da får vi $\\hat{y}=[\\hat{z}_3^{(0)}, \\hat{z}_4^{(1)}, \\hat{z}_5^{(2)}]$ som vi kan sammenligne med $y=[2,1,8]$."
   ]
  }
 ],
 "metadata": {
  "language_info": {
   "name": "python"
  }
 },
 "nbformat": 4,
 "nbformat_minor": 2
}
