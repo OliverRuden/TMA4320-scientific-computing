{
 "cells": [
  {
   "cell_type": "markdown",
   "metadata": {},
   "source": [
    "# TMA4320 Industrial Mathematics Project\n",
    "### Oliver Ruden, Åsmund Mjøs & Astrid Mysterud"
   ]
  },
  {
   "cell_type": "markdown",
   "metadata": {},
   "source": [
    "Introduksjon"
   ]
  },
  {
   "cell_type": "markdown",
   "metadata": {},
   "source": [
    "## Oppgave 1"
   ]
  },
  {
   "cell_type": "markdown",
   "metadata": {},
   "source": [
    "1.1) La $a=31$, $b=7$ og $c=1$. Da blir $d=a\\cdot b+c=218$, slik at $x=[3,1,7,0,1,2,1]$ og $y=[2,1,8]$. Modellen gir oss $\\hat{z}=[\\hat{z}_0, \\ldots, \\hat{z}_6]=f_\\theta([3,1,7,0,1,2,1])$. Vi ønsker å finne $\\theta$ slik at $\\hat{y}=[\\hat{z}_4, \\hat{z}_5, \\hat{z}_6]=[2,1,8]$."
   ]
  }
 ],
 "metadata": {
  "language_info": {
   "name": "python"
  }
 },
 "nbformat": 4,
 "nbformat_minor": 2
}
