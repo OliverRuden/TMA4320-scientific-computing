{
 "cells": [
  {
   "cell_type": "markdown",
   "metadata": {},
   "source": [
    "# TMA4320 Industrial Mathematics Project\n",
    "### Oliver Ruden, Åsmund Mjøs & Astrid Mysterud"
   ]
  },
  {
   "cell_type": "markdown",
   "metadata": {},
   "source": [
    "Introduksjon"
   ]
  },
  {
   "cell_type": "markdown",
   "metadata": {},
   "source": [
    "## Oppgave 1"
   ]
  },
  {
   "cell_type": "markdown",
   "metadata": {},
   "source": [
    "1.1) La $a=31$, $b=7$ og $c=1$. Da blir $d=a\\cdot b+c=218$, slik at $x=[3,1,7,0,1,2,1]$ og $y=[2,1,8]$. Modellen gir oss $\\hat{z}=[\\hat{z}_0, \\ldots, \\hat{z}_6]=f_\\theta([3,1,7,0,1,2,1])$. Vi ønsker å finne $\\theta$ slik at $\\hat{y}=[\\hat{z}_4, \\hat{z}_5, \\hat{z}_6]=[2,1,8]$."
   ]
  },
  {
   "cell_type": "markdown",
   "metadata": {},
   "source": [
    "1.2) Vi har at\n",
    "\n",
    "\\begin{align*}\n",
    "    x^{(0)}=[3,1,7,0,1]\\quad\\quad[\\hat{z}_0^{(0)}, \\ldots, \\hat{z}_4^{(0)}]=f_\\theta(x^{(0)})\\\\\n",
    "    x^{(1)}=[3,1,7,0,1,\\hat{z}_4^{(0)}]\\quad\\quad[\\hat{z}_0^{(1)}, \\ldots, \\hat{z}_5^{(1)}]=f_\\theta(x^{(1)})\\\\\n",
    "    x^{(2)}=[3,1,7,0,1,\\hat{z}_4^{(0)}, \\hat{z}_5^{(1)}]\\quad\\quad[\\hat{z}_0^{(2)}, \\ldots, \\hat{z}_6^{(2)}]=f_\\theta(x^{(2)})\\\\\n",
    "    x^{(3)}=[3,1,7,0,1,\\hat{z}_4^{(0)}, \\hat{z}_5^{(1)}, \\hat{z}_6^{(2)}]\n",
    "\\end{align*}\n",
    "Da får vi $\\hat{y}=[\\hat{z}_3^{(0)}, \\hat{z}_4^{(1)}, \\hat{z}_5^{(2)}]$ som vi kan sammenligne med $y=[2,1,8]$."
   ]
  },
  {
   "cell_type": "markdown",
   "metadata": {},
   "source": [
    "1.3)\n",
    "La oss anta at vi starter med en generell matrise:\n",
    "\\begin{equation*}\n",
    "    \\hat{Y}=\\left[\n",
    "        \\begin{array}{cccc}\n",
    "            a_{00} & \\cdots & a_{03}\\\\\n",
    "            \\vdots & \\ddots & \\vdots\\\\\n",
    "            a_{40} & \\cdots & a_{43}\n",
    "        \\end{array}\n",
    "        \\right]    \n",
    "\\end{equation*}\n",
    "Dette gir:\n",
    "\\begin{equation*}\n",
    "    p = \\left[\\begin{array}{cccc}\n",
    "        a_{40} & a_{31} & a_{22} & a_{13}\n",
    "        \\end{array}\n",
    "        \\right]\n",
    "\\end{equation*}\n",
    "Og vi får:\n",
    "\\begin{equation*}\n",
    "    \\mathcal{L}(\\theta, \\mathcal{D})=\\frac{1}{4}\\sum_{i=0}^{3} -\\log(p_i)\\geq 0\n",
    "\\end{equation*}\n",
    "Hvor vi har likhet når:\n",
    "\\begin{equation*}\n",
    "    a_{40} = a_{31} = a_{22} = a_{13} = 1\n",
    "\\end{equation*}\n",
    "Fordi vi har at $\\hat{Y}$ er en sannsynlighetsfordeling, må resten av elementene være lik null, og vi får:\n",
    "\\begin{equation*}\n",
    "    \\hat{Y}=Y=\\text{onehot}(y)=\\left[\n",
    "        \\begin{array}{cccc}\n",
    "            0 & 0 & 0 & 0\\\\\n",
    "            0 & 0 & 0 & 1\\\\\n",
    "            0 & 0 & 1 & 0\\\\\n",
    "            0 & 1 & 0 & 0\\\\\n",
    "            1 & 0 & 0 & 0\n",
    "        \\end{array}\n",
    "        \\right]    \n",
    "\\end{equation*}\n",
    "Dette gir:\n",
    "\\begin{equation*}\n",
    "    \\hat{y} = [4,\\;3,\\;2,\\;1]\n",
    "\\end{equation*}"
   ]
  }
 ],
 "metadata": {
  "kernelspec": {
   "display_name": "Python 3.10.11 64-bit",
   "language": "python",
   "name": "python3"
  },
  "language_info": {
   "codemirror_mode": {
    "name": "ipython",
    "version": 3
   },
   "file_extension": ".py",
   "mimetype": "text/x-python",
   "name": "python",
   "nbconvert_exporter": "python",
   "pygments_lexer": "ipython3",
   "version": "3.10.11"
  },
  "vscode": {
   "interpreter": {
    "hash": "aee8b7b246df8f9039afb4144a1f6fd8d2ca17a180786b69acc140d282b71a49"
   }
  }
 },
 "nbformat": 4,
 "nbformat_minor": 2
}
