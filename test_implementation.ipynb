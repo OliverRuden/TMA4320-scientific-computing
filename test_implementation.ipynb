{
 "cells": [
  {
   "cell_type": "markdown",
   "metadata": {},
   "source": [
    "# Problem $3$: Testing and training the transformer model\n",
    "\n",
    "In this file we test and train the transformer model we implemented in problem $2$. "
   ]
  },
  {
   "cell_type": "code",
   "execution_count": 1,
   "metadata": {},
   "outputs": [],
   "source": [
    "from layers import *\n",
    "from neural_network import NeuralNetwork\n",
    "from utils import onehot\n",
    "import numpy as np\n",
    "import matplotlib.pyplot as plt\n",
    "from data_generators import *\n",
    "from training_utils import *"
   ]
  },
  {
   "cell_type": "markdown",
   "metadata": {},
   "source": [
    "### $3.1$: Testing if the layers are implemented correctly\n",
    "Here, we check that the functions implemented return matrices of the correct dimensions, and that the functions run. "
   ]
  },
  {
   "cell_type": "code",
   "execution_count": 2,
   "metadata": {},
   "outputs": [
    {
     "data": {
      "text/plain": [
       "'\\nPasses all checks\\n'"
      ]
     },
     "execution_count": 2,
     "metadata": {},
     "output_type": "execute_result"
    }
   ],
   "source": [
    "#We choose some arbitrary values for the dimensions\n",
    "b = 6\n",
    "n_max = 7\n",
    "m = 8\n",
    "n = 5\n",
    "\n",
    "d = 10\n",
    "k = 5\n",
    "p = 20\n",
    "\n",
    "#Create an arbitrary dataset\n",
    "x = np.random.randint(0, m, (b,n))\n",
    "y = np.random.randint(0, m, (b,n_max))\n",
    "\n",
    "#initialize the layers\n",
    "feed_forward = FeedForward(d,p)\n",
    "attention = Attention(d,k)\n",
    "embed_pos = EmbedPosition(n_max,m,d)\n",
    "un_embed = LinearLayer(d,m)\n",
    "softmax = Softmax()\n",
    "\n",
    "\n",
    "#a manual forward pass\n",
    "X = onehot(x, m)\n",
    "z0 = embed_pos.forward(X)\n",
    "z1 = feed_forward.forward(z0)\n",
    "z2 = attention.forward(z1)\n",
    "z3 = un_embed.forward(z2)\n",
    "Z = softmax.forward(z3) \n",
    "\n",
    "\n",
    "\n",
    "#check the shapes\n",
    "assert X.shape == (b,m,n), f\"X.shape={X.shape}, expected {(b,m,n)}\"\n",
    "assert z0.shape == (b,d,n), f\"z0.shape={z0.shape}, expected {(b,d,n)}\"\n",
    "assert z1.shape == (b,d,n), f\"z1.shape={z1.shape}, expected {(b,d,n)}\"\n",
    "assert z2.shape == (b,d,n), f\"z2.shape={z2.shape}, expected {(b,d,n)}\"\n",
    "assert z3.shape == (b,m,n), f\"z3.shape={z3.shape}, expected {(b,m,n)}\"\n",
    "assert Z.shape == (b,m,n), f\"Z.shape={Z.shape}, expected {(b,m,n)}\"\n",
    "\n",
    "#is X one-hot?\n",
    "assert X.sum() == b*n, f\"X.sum()={X.sum()}, expected {b*n}\"\n",
    "\n",
    "\n",
    "assert np.allclose(Z.sum(axis=1), 1), f\"Z.sum(axis=1)={Z.sum(axis=1)}, expected {np.ones(b)}\"\n",
    "assert np.abs(Z.sum() - b*n) < 1e-5, f\"Z.sum()={Z.sum()}, expected {b*n}\"\n",
    "assert np.all(Z>=0), f\"Z={Z}, expected all entries to be non-negative\"\n",
    "\n",
    "\"\"\"\n",
    "Passes all checks\n",
    "\"\"\""
   ]
  },
  {
   "cell_type": "markdown",
   "metadata": {},
   "source": [
    "Now that we know all matrices are of correct dimension, we check that we can do a forward and backward pass, and that $\\texttt{step\\_gd()}$ works. In essence, checking if the system learns. We print $L$ for every $1000$ iteration, to check that the loss function continues to decrease. "
   ]
  },
  {
   "cell_type": "code",
   "execution_count": 3,
   "metadata": {},
   "outputs": [
    {
     "name": "stdout",
     "output_type": "stream",
     "text": [
      "L number 0 is 2.0987475\n"
     ]
    },
    {
     "name": "stdout",
     "output_type": "stream",
     "text": [
      "L number 1000 is 0.0028372\n",
      "L number 2000 is 0.0008073\n",
      "L number 3000 is 0.0004248\n",
      "L number 4000 is 0.0002769\n",
      "L number 5000 is 0.0002012\n",
      "L number 6000 is 0.0001560\n",
      "L number 7000 is 0.0001263\n",
      "L number 8000 is 0.0001054\n",
      "L number 9000 is 0.0000900\n"
     ]
    }
   ],
   "source": [
    "#test the forward pass\n",
    "n_y = n_max - 1\n",
    "x = np.random.randint(0, m, (b,n_max))\n",
    "X = onehot(x, m)\n",
    "\n",
    "#we test with a y that is shorter than the maximum length\n",
    "y = np.random.randint(0, m, (b,n_y))\n",
    "\n",
    "#initialize a neural network based on the layers above\n",
    "network = NeuralNetwork([embed_pos, feed_forward, attention, un_embed, softmax])\n",
    "#and a loss function\n",
    "loss = CrossEntropy()\n",
    "\n",
    "N = 10000\n",
    "#do a forward pass\n",
    "for i in range(N):\n",
    "    Z = network.forward(X)\n",
    "\n",
    "    #compute the loss\n",
    "    L = loss.forward(Z, y)\n",
    "    if not (i%(N//10)):\n",
    "        print(f\"L number {i} is {L:.7f}\")\n",
    "\n",
    "    #get the derivative of the loss wrt Z\n",
    "    grad_Z = loss.backward()\n",
    "\n",
    "    #and perform a backward pass\n",
    "    _ = network.backward(grad_Z)\n",
    "\n",
    "    #and and do a gradient descent step\n",
    "    _ = network.step_gd(0.1)"
   ]
  },
  {
   "cell_type": "markdown",
   "metadata": {},
   "source": [
    "### 3.2: Testing of our trainingfunction \n",
    "\n",
    "Here we are testing our training algorithm $\\texttt{training}$ with a sorting problem where we try to sort a list of 5 numbers ranging from 0 to 9. We plot the Loss function Cross Entropy as a function of iteration step, and assign the y-axis a logarithmic scale. "
   ]
  },
  {
   "cell_type": "code",
   "execution_count": 4,
   "metadata": {},
   "outputs": [],
   "source": [
    "nBatches = 10\n",
    "batchSize = 250\n",
    "n_max = 9\n",
    "m = 10\n",
    "n_iter = 500\n",
    "feed_forward1O = FeedForward(d,p)\n",
    "attention1O = Attention(d,k)\n",
    "feed_forward2O = FeedForward(d,p)\n",
    "attention2O = Attention(d,k)\n",
    "embed_pos1O = EmbedPosition(n_max,m,d)\n",
    "un_embed1O = LinearLayer(d,m)\n",
    "softmax1O = Softmax()\n",
    "network1O = NeuralNetwork([embed_pos1O, feed_forward1O, attention1O, feed_forward2O, attention2O, un_embed1O, softmax1O])\n",
    "loss1O = CrossEntropy()\n",
    "dataSet1O = get_train_test_sorting(5, m, batchSize,nBatches, 1)\n",
    "dataSet1OTraining = [dataSet1O['x_train'], dataSet1O['y_train']]\n",
    "L = training(network1O, loss1O, dataSet1OTraining, n_iter, m, alpha = 0.001)"
   ]
  },
  {
   "cell_type": "code",
   "execution_count": 13,
   "metadata": {},
   "outputs": [
    {
     "data": {
      "image/png": "[encoded data removed]",
      "text/plain": [
       "<Figure size 640x480 with 1 Axes>"
      ]
     },
     "metadata": {},
     "output_type": "display_data"
    },
    {
     "name": "stdout",
     "output_type": "stream",
     "text": [
      "The last loss function value: 0.000726\n",
      "\n",
      "Percentage of valid sortings with m=10:  96.8 %\n"
     ]
    }
   ],
   "source": [
    "fig, ax = plt.subplots()\n",
    "ax.plot(np.arange(0,len(L),1), L)\n",
    "ax.set_yscale('log')\n",
    "ax.set_title(f'Loss function per iteration step for sorting of 5 numbers with m={m}')\n",
    "ax.set_xlabel('Number of iterations made')\n",
    "ax.set_ylabel('Loss function')\n",
    "plt.show()\n",
    "\n",
    "\n",
    "N = 1000\n",
    "y = np.random.randint(0,m,(N,5))\n",
    "s = np.copy(y)\n",
    "s = np.sort(s, axis = 1)\n",
    "for i in range(5):\n",
    "    z = np.argmax(network1O.forward(onehot(y,m)), axis = 1)\n",
    "    y = np.append(y, z[:,-1:], axis = 1)\n",
    "y = y[:,5:]\n",
    "t = 0\n",
    "for i in range(len(s)):\n",
    "    equal = True\n",
    "    for j in range(len(s[i])):\n",
    "        if s[i,j] != y[i,j]:\n",
    "            equal = False\n",
    "    if equal:\n",
    "        t += 1\n",
    "print(f\"The last loss function value: {L[-1]:.6f}\\n\")\n",
    "print(\"Percentage of valid sortings with m=10: \", t/N*100, \"%\")"
   ]
  },
  {
   "cell_type": "code",
   "execution_count": 15,
   "metadata": {},
   "outputs": [
    {
     "ename": "KeyboardInterrupt",
     "evalue": "",
     "output_type": "error",
     "traceback": [
      "\u001b[1;31m---------------------------------------------------------------------------\u001b[0m",
      "\u001b[1;31mKeyboardInterrupt\u001b[0m                         Traceback (most recent call last)",
      "Cell \u001b[1;32mIn [15], line 22\u001b[0m\n\u001b[0;32m     20\u001b[0m dataAndTrain1D \u001b[38;5;241m=\u001b[39m get_train_test_sorting(length, m, batchSize, nBatches, n_batches_test\u001b[38;5;241m=\u001b[39m\u001b[38;5;241m1\u001b[39m)\n\u001b[0;32m     21\u001b[0m dataSet1D \u001b[38;5;241m=\u001b[39m [dataAndTrain1D[\u001b[38;5;124m\"\u001b[39m\u001b[38;5;124mx_train\u001b[39m\u001b[38;5;124m\"\u001b[39m], dataAndTrain1D[\u001b[38;5;124m\"\u001b[39m\u001b[38;5;124my_train\u001b[39m\u001b[38;5;124m\"\u001b[39m]]\n\u001b[1;32m---> 22\u001b[0m L \u001b[38;5;241m=\u001b[39m training(network1D, loss1D, dataSet1D, n_iter, m, alpha \u001b[38;5;241m=\u001b[39m \u001b[38;5;241m0.001\u001b[39m)\n\u001b[0;32m     24\u001b[0m fig, ax \u001b[38;5;241m=\u001b[39m plt\u001b[38;5;241m.\u001b[39msubplots()\n\u001b[0;32m     25\u001b[0m ax\u001b[38;5;241m.\u001b[39mplot(np\u001b[38;5;241m.\u001b[39marange(\u001b[38;5;241m0\u001b[39m,\u001b[38;5;28mlen\u001b[39m(L),\u001b[38;5;241m1\u001b[39m), L)\n",
      "File \u001b[1;32mc:\\Users\\aasmu\\Downloads\\NTNU\\4. sem\\Vitber\\VitBerIndMat\\training_utils.py:20\u001b[0m, in \u001b[0;36mtraining\u001b[1;34m(neuralNetwork, objectFunction, dataSet, nIter, m, alpha, beta_1, beta_2)\u001b[0m\n\u001b[0;32m     18\u001b[0m x \u001b[38;5;241m=\u001b[39m x_data[batchNumber]\n\u001b[0;32m     19\u001b[0m X \u001b[38;5;241m=\u001b[39m onehot(x,m)\n\u001b[1;32m---> 20\u001b[0m Z \u001b[38;5;241m=\u001b[39m \u001b[43mneuralNetwork\u001b[49m\u001b[38;5;241;43m.\u001b[39;49m\u001b[43mforward\u001b[49m\u001b[43m(\u001b[49m\u001b[43mX\u001b[49m\u001b[43m)\u001b[49m\n\u001b[0;32m     21\u001b[0m L_temp \u001b[38;5;241m+\u001b[39m\u001b[38;5;241m=\u001b[39m objectFunction\u001b[38;5;241m.\u001b[39mforward(Z,y_data[batchNumber])\n\u001b[0;32m     22\u001b[0m grad_Z \u001b[38;5;241m=\u001b[39m objectFunction\u001b[38;5;241m.\u001b[39mbackward()\n",
      "File \u001b[1;32mc:\\Users\\aasmu\\Downloads\\NTNU\\4. sem\\Vitber\\VitBerIndMat\\neural_network.py:18\u001b[0m, in \u001b[0;36mNeuralNetwork.forward\u001b[1;34m(self, x)\u001b[0m\n\u001b[0;32m     15\u001b[0m \u001b[38;5;28;01mdef\u001b[39;00m \u001b[38;5;21mforward\u001b[39m(\u001b[38;5;28mself\u001b[39m,x):\n\u001b[0;32m     16\u001b[0m     \u001b[38;5;66;03m#Recursively perform forward pass from initial input x\u001b[39;00m\n\u001b[0;32m     17\u001b[0m     \u001b[38;5;28;01mfor\u001b[39;00m layer \u001b[38;5;129;01min\u001b[39;00m \u001b[38;5;28mself\u001b[39m\u001b[38;5;241m.\u001b[39mlayers:\n\u001b[1;32m---> 18\u001b[0m         x \u001b[38;5;241m=\u001b[39m \u001b[43mlayer\u001b[49m\u001b[38;5;241;43m.\u001b[39;49m\u001b[43mforward\u001b[49m\u001b[43m(\u001b[49m\u001b[43mx\u001b[49m\u001b[43m)\u001b[49m\n\u001b[0;32m     19\u001b[0m     \u001b[38;5;28;01mreturn\u001b[39;00m x\n",
      "\u001b[1;31mKeyboardInterrupt\u001b[0m: "
     ]
    }
   ],
   "source": [
    "nBatches = 10\n",
    "batchSize = 250\n",
    "length = 5\n",
    "n_max = 9\n",
    "m = 2\n",
    "n_iter = 500\n",
    "d = 10\n",
    "k = 5\n",
    "p = 15\n",
    "\n",
    "feed_forward1D = FeedForward(d,p)\n",
    "attention1D = Attention(d,k)\n",
    "feed_forward2D = FeedForward(d,p)\n",
    "attention2D = Attention(d,k)\n",
    "embed_pos1D = EmbedPosition(n_max,m,d)\n",
    "un_embed1D = LinearLayer(d,m)\n",
    "softmax1D = Softmax()\n",
    "network1D = NeuralNetwork([embed_pos1D, feed_forward1D, attention1D, feed_forward2D, attention2D, un_embed1D, softmax1D])\n",
    "loss1D = CrossEntropy()\n",
    "dataAndTrain1D = get_train_test_sorting(length, m, batchSize, nBatches, n_batches_test=1)\n",
    "dataSet1D = [dataAndTrain1D[\"x_train\"], dataAndTrain1D[\"y_train\"]]\n",
    "L = training(network1D, loss1D, dataSet1D, n_iter, m, alpha = 0.001)\n",
    "\n",
    "fig, ax = plt.subplots()\n",
    "ax.plot(np.arange(0,len(L),1), L)\n",
    "ax.set_yscale('log')\n",
    "ax.set_title(f'Loss function per iteration step for sorting of 5 numbers with m={m}')\n",
    "ax.set_xlabel('Number of iterations made')\n",
    "ax.set_ylabel('Loss function')\n",
    "plt.show()\n",
    "\n",
    "\n",
    "y = np.copy(dataAndTrain1D[\"x_test\"][0])\n",
    "for i in range(5):\n",
    "    z = np.argmax(network1D.forward(onehot(y,m)), axis = 1)\n",
    "    y = np.append(y, z[:,-1:], axis = 1)\n",
    "t = 0\n",
    "s = np.copy(dataAndTrain1D[\"y_test\"][0])\n",
    "y = y[:,5:]\n",
    "for i in range(np.shape(s)[0]):\n",
    "    equal = True\n",
    "    for j in range(np.shape(s)[1]):\n",
    "        if s[i,j] != y[i,j]:\n",
    "            equal = False\n",
    "    if equal:\n",
    "        t += 1\n",
    "\n",
    "print(f\"The last loss function value: {L[-1]:.6f}\\n\")\n",
    "print(\"Percentage of valid sortings with m=2: \", t/np.shape(y)[0]*100, \"%\")"
   ]
  },
  {
   "cell_type": "code",
   "execution_count": null,
   "metadata": {},
   "outputs": [
    {
     "data": {
      "text/plain": [
       "\"\\nHere you may add additional tests to for example:\\n\\n- Check if the ['d'] keys in the parameter dictionaries are not None, or receive something when running backward pass\\n- Check if the parameters change when you perform a gradient descent step\\n- Check if the loss decreases when you perform a gradient descent step\\n\\nThis is voluntary, but could be useful.\\n\""
      ]
     },
     "execution_count": 23,
     "metadata": {},
     "output_type": "execute_result"
    }
   ],
   "source": [
    "\"\"\"\n",
    "Here you may add additional tests to for example:\n",
    "\n",
    "- Check if the ['d'] keys in the parameter dictionaries are not None, or receive something when running backward pass\n",
    "- Check if the parameters change when you perform a gradient descent step\n",
    "- Check if the loss decreases when you perform a gradient descent step\n",
    "\n",
    "This is voluntary, but could be useful.\n",
    "\"\"\""
   ]
  },
  {
   "cell_type": "code",
   "execution_count": null,
   "metadata": {},
   "outputs": [],
   "source": [
    "#check if loss is non-negative\n",
    "assert L[-1] >= 0, f\"L={L}, expected L>=0\"\n",
    "assert grad_Z.shape == Z.shape, f\"grad_Z.shape={grad_Z.shape}, expected {Z.shape}\"\n",
    "\n",
    "#check if onehot(y) gives zero loss\n",
    "Y = onehot(y, m)\n",
    "L = loss.forward(Y, y)\n",
    "assert L < 1e-5, f\"L={L}, expected L<1e-5\"\n"
   ]
  },
  {
   "cell_type": "code",
   "execution_count": null,
   "metadata": {},
   "outputs": [
    {
     "ename": "KeyboardInterrupt",
     "evalue": "",
     "output_type": "error",
     "traceback": [
      "\u001b[1;31m---------------------------------------------------------------------------\u001b[0m",
      "\u001b[1;31mKeyboardInterrupt\u001b[0m                         Traceback (most recent call last)",
      "Cell \u001b[1;32mIn [7], line 26\u001b[0m\n\u001b[0;32m     24\u001b[0m dataSet \u001b[38;5;241m=\u001b[39m get_train_test_addition(n_digit\u001b[38;5;241m=\u001b[39m\u001b[38;5;241m2\u001b[39m, samples_per_batch \u001b[38;5;241m=\u001b[39m samples_per_batch, n_batches_train \u001b[38;5;241m=\u001b[39m n_batches_train, n_batches_test \u001b[38;5;241m=\u001b[39m n_batches_test)\n\u001b[0;32m     25\u001b[0m data \u001b[38;5;241m=\u001b[39m [dataSet[\u001b[38;5;124m'\u001b[39m\u001b[38;5;124mx_train\u001b[39m\u001b[38;5;124m'\u001b[39m],dataSet[\u001b[38;5;124m'\u001b[39m\u001b[38;5;124my_train\u001b[39m\u001b[38;5;124m'\u001b[39m]]\n\u001b[1;32m---> 26\u001b[0m L \u001b[38;5;241m=\u001b[39m training(network_add, loss_add, data, n_iter, m, alpha \u001b[38;5;241m=\u001b[39m \u001b[38;5;241m0.001\u001b[39m)\n\u001b[0;32m     28\u001b[0m fig, ax \u001b[38;5;241m=\u001b[39m plt\u001b[38;5;241m.\u001b[39msubplots()\n\u001b[0;32m     29\u001b[0m ax\u001b[38;5;241m.\u001b[39mplot(np\u001b[38;5;241m.\u001b[39marange(\u001b[38;5;241m0\u001b[39m,\u001b[38;5;28mlen\u001b[39m(L),\u001b[38;5;241m1\u001b[39m), L)\n",
      "File \u001b[1;32mc:\\Users\\aasmu\\Downloads\\NTNU\\4. sem\\Vitber\\VitBerIndMat\\training_utils.py:20\u001b[0m, in \u001b[0;36mtraining\u001b[1;34m(neuralNetwork, objectFunction, dataSet, nIter, m, alpha, beta_1, beta_2)\u001b[0m\n\u001b[0;32m     18\u001b[0m x \u001b[38;5;241m=\u001b[39m x_data[batchNumber]\n\u001b[0;32m     19\u001b[0m X \u001b[38;5;241m=\u001b[39m onehot(x,m)\n\u001b[1;32m---> 20\u001b[0m Z \u001b[38;5;241m=\u001b[39m \u001b[43mneuralNetwork\u001b[49m\u001b[38;5;241;43m.\u001b[39;49m\u001b[43mforward\u001b[49m\u001b[43m(\u001b[49m\u001b[43mX\u001b[49m\u001b[43m)\u001b[49m\n\u001b[0;32m     21\u001b[0m L_temp \u001b[38;5;241m+\u001b[39m\u001b[38;5;241m=\u001b[39m objectFunction\u001b[38;5;241m.\u001b[39mforward(Z,y_data[batchNumber])\n\u001b[0;32m     22\u001b[0m grad_Z \u001b[38;5;241m=\u001b[39m objectFunction\u001b[38;5;241m.\u001b[39mbackward()\n",
      "File \u001b[1;32mc:\\Users\\aasmu\\Downloads\\NTNU\\4. sem\\Vitber\\VitBerIndMat\\neural_network.py:18\u001b[0m, in \u001b[0;36mNeuralNetwork.forward\u001b[1;34m(self, x)\u001b[0m\n\u001b[0;32m     15\u001b[0m \u001b[38;5;28;01mdef\u001b[39;00m \u001b[38;5;21mforward\u001b[39m(\u001b[38;5;28mself\u001b[39m,x):\n\u001b[0;32m     16\u001b[0m     \u001b[38;5;66;03m#Recursively perform forward pass from initial input x\u001b[39;00m\n\u001b[0;32m     17\u001b[0m     \u001b[38;5;28;01mfor\u001b[39;00m layer \u001b[38;5;129;01min\u001b[39;00m \u001b[38;5;28mself\u001b[39m\u001b[38;5;241m.\u001b[39mlayers:\n\u001b[1;32m---> 18\u001b[0m         x \u001b[38;5;241m=\u001b[39m \u001b[43mlayer\u001b[49m\u001b[38;5;241;43m.\u001b[39;49m\u001b[43mforward\u001b[49m\u001b[43m(\u001b[49m\u001b[43mx\u001b[49m\u001b[43m)\u001b[49m\n\u001b[0;32m     19\u001b[0m     \u001b[38;5;28;01mreturn\u001b[39;00m x\n",
      "File \u001b[1;32mc:\\Users\\aasmu\\Downloads\\NTNU\\4. sem\\Vitber\\VitBerIndMat\\layers.py:134\u001b[0m, in \u001b[0;36mAttention.forward\u001b[1;34m(self, z)\u001b[0m\n\u001b[0;32m    128\u001b[0m \u001b[38;5;124;03m\"\"\"\u001b[39;00m\n\u001b[0;32m    129\u001b[0m \u001b[38;5;124;03mCalculating the A and z_l matrices as in equation (20) in the project description.\u001b[39;00m\n\u001b[0;32m    130\u001b[0m \u001b[38;5;124;03m\"\"\"\u001b[39;00m\n\u001b[0;32m    132\u001b[0m \u001b[38;5;28mself\u001b[39m\u001b[38;5;241m.\u001b[39mA \u001b[38;5;241m=\u001b[39m \u001b[38;5;28mself\u001b[39m\u001b[38;5;241m.\u001b[39mlocalSoftmax\u001b[38;5;241m.\u001b[39mforward((np\u001b[38;5;241m.\u001b[39meinsum(\u001b[38;5;124m'\u001b[39m\u001b[38;5;124mbeo,ke,kd,bdn->bon\u001b[39m\u001b[38;5;124m'\u001b[39m, z, \u001b[38;5;28mself\u001b[39m\u001b[38;5;241m.\u001b[39mparams[\u001b[38;5;124m'\u001b[39m\u001b[38;5;124mW_Q\u001b[39m\u001b[38;5;124m'\u001b[39m][\u001b[38;5;124m'\u001b[39m\u001b[38;5;124mw\u001b[39m\u001b[38;5;124m'\u001b[39m], \u001b[38;5;28mself\u001b[39m\u001b[38;5;241m.\u001b[39mparams[\u001b[38;5;124m'\u001b[39m\u001b[38;5;124mW_K\u001b[39m\u001b[38;5;124m'\u001b[39m][\u001b[38;5;124m'\u001b[39m\u001b[38;5;124mw\u001b[39m\u001b[38;5;124m'\u001b[39m], z, optimize \u001b[38;5;241m=\u001b[39m \u001b[38;5;28;01mTrue\u001b[39;00m) \u001b[38;5;241m+\u001b[39m D))\n\u001b[1;32m--> 134\u001b[0m \u001b[38;5;28mself\u001b[39m\u001b[38;5;241m.\u001b[39mzl \u001b[38;5;241m=\u001b[39m z \u001b[38;5;241m+\u001b[39m \u001b[43mnp\u001b[49m\u001b[38;5;241;43m.\u001b[39;49m\u001b[43meinsum\u001b[49m\u001b[43m(\u001b[49m\u001b[38;5;124;43m'\u001b[39;49m\u001b[38;5;124;43mkd,kp,bpq,bqn->bdn\u001b[39;49m\u001b[38;5;124;43m'\u001b[39;49m\u001b[43m,\u001b[49m\u001b[43m \u001b[49m\u001b[38;5;28;43mself\u001b[39;49m\u001b[38;5;241;43m.\u001b[39;49m\u001b[43mparams\u001b[49m\u001b[43m[\u001b[49m\u001b[38;5;124;43m'\u001b[39;49m\u001b[38;5;124;43mW_O\u001b[39;49m\u001b[38;5;124;43m'\u001b[39;49m\u001b[43m]\u001b[49m\u001b[43m[\u001b[49m\u001b[38;5;124;43m'\u001b[39;49m\u001b[38;5;124;43mw\u001b[39;49m\u001b[38;5;124;43m'\u001b[39;49m\u001b[43m]\u001b[49m\u001b[43m,\u001b[49m\u001b[43m \u001b[49m\u001b[38;5;28;43mself\u001b[39;49m\u001b[38;5;241;43m.\u001b[39;49m\u001b[43mparams\u001b[49m\u001b[43m[\u001b[49m\u001b[38;5;124;43m'\u001b[39;49m\u001b[38;5;124;43mW_V\u001b[39;49m\u001b[38;5;124;43m'\u001b[39;49m\u001b[43m]\u001b[49m\u001b[43m[\u001b[49m\u001b[38;5;124;43m'\u001b[39;49m\u001b[38;5;124;43mw\u001b[39;49m\u001b[38;5;124;43m'\u001b[39;49m\u001b[43m]\u001b[49m\u001b[43m,\u001b[49m\u001b[43m \u001b[49m\u001b[43mz\u001b[49m\u001b[43m,\u001b[49m\u001b[43m \u001b[49m\u001b[38;5;28;43mself\u001b[39;49m\u001b[38;5;241;43m.\u001b[39;49m\u001b[43mA\u001b[49m\u001b[43m,\u001b[49m\u001b[43m \u001b[49m\u001b[43moptimize\u001b[49m\u001b[43m \u001b[49m\u001b[38;5;241;43m=\u001b[39;49m\u001b[43m \u001b[49m\u001b[38;5;28;43;01mTrue\u001b[39;49;00m\u001b[43m)\u001b[49m\n\u001b[0;32m    136\u001b[0m \u001b[38;5;28;01mreturn\u001b[39;00m \u001b[38;5;28mself\u001b[39m\u001b[38;5;241m.\u001b[39mzl\n",
      "File \u001b[1;32m<__array_function__ internals>:180\u001b[0m, in \u001b[0;36meinsum\u001b[1;34m(*args, **kwargs)\u001b[0m\n",
      "File \u001b[1;32mc:\\Users\\aasmu\\AppData\\Local\\Programs\\Python\\Python310\\lib\\site-packages\\numpy\\core\\einsumfunc.py:1419\u001b[0m, in \u001b[0;36meinsum\u001b[1;34m(out, optimize, *operands, **kwargs)\u001b[0m\n\u001b[0;32m   1416\u001b[0m     right_pos\u001b[38;5;241m.\u001b[39mappend(input_right\u001b[38;5;241m.\u001b[39mfind(s))\n\u001b[0;32m   1418\u001b[0m \u001b[38;5;66;03m# Contract!\u001b[39;00m\n\u001b[1;32m-> 1419\u001b[0m new_view \u001b[38;5;241m=\u001b[39m \u001b[43mtensordot\u001b[49m\u001b[43m(\u001b[49m\u001b[38;5;241;43m*\u001b[39;49m\u001b[43mtmp_operands\u001b[49m\u001b[43m,\u001b[49m\u001b[43m \u001b[49m\u001b[43maxes\u001b[49m\u001b[38;5;241;43m=\u001b[39;49m\u001b[43m(\u001b[49m\u001b[38;5;28;43mtuple\u001b[39;49m\u001b[43m(\u001b[49m\u001b[43mleft_pos\u001b[49m\u001b[43m)\u001b[49m\u001b[43m,\u001b[49m\u001b[43m \u001b[49m\u001b[38;5;28;43mtuple\u001b[39;49m\u001b[43m(\u001b[49m\u001b[43mright_pos\u001b[49m\u001b[43m)\u001b[49m\u001b[43m)\u001b[49m\u001b[43m)\u001b[49m\n\u001b[0;32m   1421\u001b[0m \u001b[38;5;66;03m# Build a new view if needed\u001b[39;00m\n\u001b[0;32m   1422\u001b[0m \u001b[38;5;28;01mif\u001b[39;00m (tensor_result \u001b[38;5;241m!=\u001b[39m results_index) \u001b[38;5;129;01mor\u001b[39;00m handle_out:\n",
      "File \u001b[1;32m<__array_function__ internals>:180\u001b[0m, in \u001b[0;36mtensordot\u001b[1;34m(*args, **kwargs)\u001b[0m\n",
      "File \u001b[1;32mc:\\Users\\aasmu\\AppData\\Local\\Programs\\Python\\Python310\\lib\\site-packages\\numpy\\core\\numeric.py:1138\u001b[0m, in \u001b[0;36mtensordot\u001b[1;34m(a, b, axes)\u001b[0m\n\u001b[0;32m   1136\u001b[0m at \u001b[38;5;241m=\u001b[39m a\u001b[38;5;241m.\u001b[39mtranspose(newaxes_a)\u001b[38;5;241m.\u001b[39mreshape(newshape_a)\n\u001b[0;32m   1137\u001b[0m bt \u001b[38;5;241m=\u001b[39m b\u001b[38;5;241m.\u001b[39mtranspose(newaxes_b)\u001b[38;5;241m.\u001b[39mreshape(newshape_b)\n\u001b[1;32m-> 1138\u001b[0m res \u001b[38;5;241m=\u001b[39m \u001b[43mdot\u001b[49m\u001b[43m(\u001b[49m\u001b[43mat\u001b[49m\u001b[43m,\u001b[49m\u001b[43m \u001b[49m\u001b[43mbt\u001b[49m\u001b[43m)\u001b[49m\n\u001b[0;32m   1139\u001b[0m \u001b[38;5;28;01mreturn\u001b[39;00m res\u001b[38;5;241m.\u001b[39mreshape(olda \u001b[38;5;241m+\u001b[39m oldb)\n",
      "File \u001b[1;32m<__array_function__ internals>:180\u001b[0m, in \u001b[0;36mdot\u001b[1;34m(*args, **kwargs)\u001b[0m\n",
      "\u001b[1;31mKeyboardInterrupt\u001b[0m: "
     ]
    }
   ],
   "source": [
    "n_max = 6\n",
    "m = 10\n",
    "n_iter = 150\n",
    "\n",
    "d = 30\n",
    "k = 20\n",
    "p = 40\n",
    "\n",
    "samples_per_batch = 150\n",
    "n_batches_train = 20\n",
    "n_batches_test = 4\n",
    "\n",
    "feed_forward1_add = FeedForward(d,p)\n",
    "attention1_add = Attention(d,k)\n",
    "feed_forward2_add = FeedForward(d,p)\n",
    "attention2_add = Attention(d,k)\n",
    "feed_forward3_add = FeedForward(d,p)\n",
    "attention3_add = Attention(d,k)\n",
    "embed_pos_add = EmbedPosition(n_max,m,d)\n",
    "un_embed_add = LinearLayer(d,m)\n",
    "softmax_add = Softmax()\n",
    "network_add = NeuralNetwork([embed_pos_add, feed_forward1_add, attention1_add, feed_forward2_add, attention2_add, feed_forward3_add, attention3_add, un_embed_add, softmax_add])\n",
    "loss_add = CrossEntropy()\n",
    "dataSet = get_train_test_addition(n_digit=2, samples_per_batch = samples_per_batch, n_batches_train = n_batches_train, n_batches_test = n_batches_test)\n",
    "data = [dataSet['x_train'],dataSet['y_train']]\n",
    "L = training(network_add, loss_add, data, n_iter, m, alpha = 0.001)\n",
    "\n",
    "fig, ax = plt.subplots()\n",
    "ax.plot(np.arange(0,len(L),1), L)\n",
    "plt.show()\n",
    "print(\"L: \", L[-1], \"\\n\\n\")\n",
    "\n",
    "t = 0\n",
    "\n",
    "x_arr, y_arr = generateAllAddition()\n",
    "\n",
    "for i in range(3):\n",
    "    z = np.argmax(network_add.forward(onehot(x_arr,m)), axis = 1)\n",
    "    x_arr = np.append(x_arr, z[:,-1:], axis = 1)\n",
    "\n",
    "for x in range(10000):\n",
    "\n",
    "    useful_x_values = x_arr[x,-3:][::-1]\n",
    "\n",
    "    equal = True\n",
    "\n",
    "    for digit in range(3):\n",
    "        if useful_x_values[digit]!=y_arr[x,digit]:\n",
    "            equal = False\n",
    "\n",
    "    if equal:\n",
    "        t+=1\n",
    "    \n",
    "print(\"Percentage of valid additions: \", t/(10000)*100, \"%\")\n"
   ]
  }
 ],
 "metadata": {
  "kernelspec": {
   "display_name": "Python 3",
   "language": "python",
   "name": "python3"
  },
  "language_info": {
   "codemirror_mode": {
    "name": "ipython",
    "version": 3
   },
   "file_extension": ".py",
   "mimetype": "text/x-python",
   "name": "python",
   "nbconvert_exporter": "python",
   "pygments_lexer": "ipython3",
   "version": "3.9.12"
  }
 },
 "nbformat": 4,
 "nbformat_minor": 2
}
