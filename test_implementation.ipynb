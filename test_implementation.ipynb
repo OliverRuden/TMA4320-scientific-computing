{
 "cells": [
  {
   "cell_type": "markdown",
   "metadata": {},
   "source": [
    "# Test om koden er riktig implementert\n",
    "\n",
    "Her er et forslag til testfunksjoner for å sjekke om koden er riktig implementert.\n",
    "```assert variabel``` vil gi en feilmelding med mindre variabelen ```variabel = True```. For eksempel vil ```assert a == b``` gi en feilmelding med mindre ```a``` og ```b``` er like."
   ]
  },
  {
   "cell_type": "code",
   "execution_count": 14,
   "metadata": {},
   "outputs": [],
   "source": [
    "#For eksempel:\n",
    "variable = True\n",
    "assert variable, \"You need to change 'variable' to True\""
   ]
  },
  {
   "cell_type": "code",
   "execution_count": 15,
   "metadata": {},
   "outputs": [],
   "source": [
    "from layers import *\n",
    "from neural_network import NeuralNetwork\n",
    "from utils import onehot\n",
    "import numpy as np\n",
    "import matplotlib.pyplot as plt\n",
    "from data_generators import *"
   ]
  },
  {
   "cell_type": "code",
   "execution_count": 16,
   "metadata": {},
   "outputs": [],
   "source": [
    "#We choose some arbitrary values for the dimensions\n",
    "b = 1\n",
    "n_max = 7\n",
    "m = 8\n",
    "n = 5\n",
    "\n",
    "d = 10\n",
    "k = 5\n",
    "p = 15\n",
    "\n",
    "#Create an arbitrary dataset\n",
    "x = np.random.randint(0, m, (b,n))\n",
    "y = np.random.randint(0, m, (b,n_max))\n",
    "\n",
    "#initialize the layers\n",
    "feed_forward = FeedForward(d,p)\n",
    "attention = Attention(d,k)\n",
    "embed_pos = EmbedPosition(n_max,m,d)\n",
    "un_embed = LinearLayer(d,m)\n",
    "softmax = Softmax()\n",
    "\n",
    "\n",
    "#a manual forward pass\n",
    "X = onehot(x, m)\n",
    "z0 = embed_pos.forward(X)\n",
    "z1 = feed_forward.forward(z0)\n",
    "z2 = attention.forward(z1)\n",
    "z3 = un_embed.forward(z2)\n",
    "Z = softmax.forward(z3) \n",
    "\n",
    "\n",
    "\n",
    "#check the shapes\n",
    "assert X.shape == (b,m,n), f\"X.shape={X.shape}, expected {(b,m,n)}\"\n",
    "assert z0.shape == (b,d,n), f\"z0.shape={z0.shape}, expected {(b,d,n)}\"\n",
    "assert z1.shape == (b,d,n), f\"z1.shape={z1.shape}, expected {(b,d,n)}\"\n",
    "assert z2.shape == (b,d,n), f\"z2.shape={z2.shape}, expected {(b,d,n)}\"\n",
    "assert z3.shape == (b,m,n), f\"z3.shape={z3.shape}, expected {(b,m,n)}\"\n",
    "assert Z.shape == (b,m,n), f\"Z.shape={Z.shape}, expected {(b,m,n)}\"\n",
    "\n",
    "#is X one-hot?\n",
    "assert X.sum() == b*n, f\"X.sum()={X.sum()}, expected {b*n}\"\n",
    "\n",
    "\n",
    "assert np.allclose(Z.sum(axis=1), 1), f\"Z.sum(axis=1)={Z.sum(axis=1)}, expected {np.ones(b)}\"\n",
    "assert np.abs(Z.sum() - b*n) < 1e-5, f\"Z.sum()={Z.sum()}, expected {b*n}\"\n",
    "assert np.all(Z>=0), f\"Z={Z}, expected all entries to be non-negative\"\n"
   ]
  },
  {
   "cell_type": "code",
   "execution_count": 17,
   "metadata": {},
   "outputs": [
    {
     "name": "stdout",
     "output_type": "stream",
     "text": [
      "2.076783195998965\n",
      "0.00017352309212359722\n",
      "7.653756024729887e-05\n",
      "4.7761892036090426e-05\n",
      "3.426336590399093e-05\n",
      "2.6512302776024938e-05\n",
      "2.1514662559712716e-05\n",
      "1.8039579609255968e-05\n",
      "1.5491110204908602e-05\n",
      "1.3546738506731229e-05\n"
     ]
    }
   ],
   "source": [
    "\n",
    "#test the forward pass\n",
    "n_y = n_max - 1\n",
    "x = np.random.randint(0, m, (b,n_max))\n",
    "X = onehot(x, m)\n",
    "\n",
    "#we test with a y that is shorter than the maximum length\n",
    "y = np.random.randint(0, m, (b,n_y))\n",
    "\n",
    "#initialize a neural network based on the layers above\n",
    "network = NeuralNetwork([embed_pos, feed_forward, attention, un_embed, softmax])\n",
    "#and a loss function\n",
    "loss = CrossEntropy()\n",
    "\n",
    "N = 10000\n",
    "#do a forward pass\n",
    "for i in range(N):\n",
    "    Z = network.forward(X)\n",
    "\n",
    "    #compute the loss\n",
    "    L = loss.forward(Z, y)\n",
    "    if not (i%(N//10)):\n",
    "        print(L)\n",
    "\n",
    "    #get the derivative of the loss wrt Z\n",
    "    grad_Z = loss.backward()\n",
    "\n",
    "    #and perform a backward pass\n",
    "    _ = network.backward(grad_Z)\n",
    "\n",
    "    #and and do a gradient descent step\n",
    "    _ = network.step_gd(0.1)"
   ]
  },
  {
   "cell_type": "code",
   "execution_count": 88,
   "metadata": {},
   "outputs": [],
   "source": [
    "def training(neuralNetwork, objectFunction, dataSet, nIter, m, alpha = 0.01, beta_1 = 0.9, beta_2 = 0.999):\n",
    "    L = []\n",
    "    for i in range(nIter):\n",
    "        for batchNumber, x in enumerate(dataSet[0]):\n",
    "            X = onehot(x,m)\n",
    "            Z = neuralNetwork.forward(X)\n",
    "            L.append(objectFunction.forward(Z,dataSet[1][batchNumber]))\n",
    "            grad_Z = objectFunction.backward()\n",
    "            neuralNetwork.backward(grad_Z)\n",
    "            neuralNetwork.adamStep(i, batchNumber, len(dataSet[0]), alpha = alpha, beta_1 = beta_1, beta_2 = beta_2)\n",
    "    return neuralNetwork, L\n",
    "            "
   ]
  },
  {
   "cell_type": "code",
   "execution_count": 19,
   "metadata": {},
   "outputs": [],
   "source": [
    "def generateSortData(numberOfBatches, batchSize, n_max, m):\n",
    "    x = np.random.randint(0,m,(numberOfBatches,batchSize, (n_max+1)//2))\n",
    "    y = np.sort(np.copy(x), axis = 2)\n",
    "    x = np.append(x,y, axis = 2)[:,:,:-1]\n",
    "    return [x,y]"
   ]
  },
  {
   "cell_type": "code",
   "execution_count": 20,
   "metadata": {},
   "outputs": [],
   "source": [
    "nBatches = 10\n",
    "batchSize = 250\n",
    "n_max = 9\n",
    "m = 8\n",
    "n_iter = 500\n",
    "feed_forward1O = FeedForward(d,p)\n",
    "attention1O = Attention(d,k)\n",
    "feed_forward2O = FeedForward(d,p)\n",
    "attention2O = Attention(d,k)\n",
    "embed_pos1O = EmbedPosition(n_max,m,d)\n",
    "un_embed1O = LinearLayer(d,m)\n",
    "softmax1O = Softmax()\n",
    "network1O = NeuralNetwork([embed_pos1O, feed_forward1O, attention1O, feed_forward2O, attention2O, un_embed1O, softmax1O])\n",
    "loss1O = CrossEntropy()\n",
    "dataSet1O = generateSortData(nBatches, batchSize, n_max, m)\n",
    "network1O,L = training(network1O, loss1O, dataSet1O, n_iter, m, alpha = 0.001)\n"
   ]
  },
  {
   "cell_type": "code",
   "execution_count": 21,
   "metadata": {},
   "outputs": [
    {
     "data": {
      "image/png": "[encoded data removed]",
      "text/plain": [
       "<Figure size 640x480 with 1 Axes>"
      ]
     },
     "metadata": {},
     "output_type": "display_data"
    },
    {
     "name": "stdout",
     "output_type": "stream",
     "text": [
      "0.002206258977819866\n",
      "97.5\n"
     ]
    }
   ],
   "source": [
    "fig, ax = plt.subplots()\n",
    "ax.plot(np.arange(0,len(L),1), L)\n",
    "plt.show()\n",
    "print(L[-1])\n",
    "N = 1000\n",
    "y = np.random.randint(0,m,(N,5))\n",
    "s = np.copy(y)\n",
    "s = np.sort(s, axis = 1)\n",
    "for i in range(5):\n",
    "    z = np.argmax(network1O.forward(onehot(y,m)), axis = 1)\n",
    "    y = np.append(y, z[:,-1:], axis = 1)\n",
    "y = y[:,5:]\n",
    "t = 0\n",
    "for i in range(len(s)):\n",
    "    equal = True\n",
    "    for j in range(len(s[i])):\n",
    "        if s[i,j] != y[i,j]:\n",
    "            equal = False\n",
    "    if equal:\n",
    "        t += 1\n",
    "print(t/N*100)"
   ]
  },
  {
   "cell_type": "code",
   "execution_count": 22,
   "metadata": {},
   "outputs": [
    {
     "data": {
      "image/png": "[encoded data removed]",
      "text/plain": [
       "<Figure size 640x480 with 1 Axes>"
      ]
     },
     "metadata": {},
     "output_type": "display_data"
    },
    {
     "name": "stdout",
     "output_type": "stream",
     "text": [
      "0.003415821147366785\n",
      "(250, 10)\n",
      "(250, 5)\n",
      "99.2\n"
     ]
    }
   ],
   "source": [
    "nBatches = 10\n",
    "batchSize = 250\n",
    "length = 5\n",
    "n_max = 9\n",
    "m = 8\n",
    "n_iter = 500\n",
    "d = 10\n",
    "k = 5\n",
    "p = 15\n",
    "\n",
    "feed_forward1D = FeedForward(d,p)\n",
    "attention1D = Attention(d,k)\n",
    "feed_forward2D = FeedForward(d,p)\n",
    "attention2D = Attention(d,k)\n",
    "embed_pos1D = EmbedPosition(n_max,m,d)\n",
    "un_embed1D = LinearLayer(d,m)\n",
    "softmax1D = Softmax()\n",
    "network1D = NeuralNetwork([embed_pos1D, feed_forward1D, attention1D, feed_forward2D, attention2D, un_embed1D, softmax1D])\n",
    "loss1D = CrossEntropy()\n",
    "dataAndTrain1D = get_train_test_sorting(length, m, batchSize, nBatches, n_batches_test=1)\n",
    "dataSet1D = [dataAndTrain1D[\"x_train\"], dataAndTrain1D[\"y_train\"]]\n",
    "network,L = training(network1D, loss1D, dataSet1D, n_iter, m, alpha = 0.001)\n",
    "fig, ax = plt.subplots()\n",
    "ax.plot(np.arange(0,np.size(L),1), L)\n",
    "plt.show()\n",
    "print(L[-1])\n",
    "y = np.copy(dataAndTrain1D[\"x_test\"][0])\n",
    "for i in range(5):\n",
    "    z = np.argmax(network1D.forward(onehot(y,m)), axis = 1)\n",
    "    y = np.append(y, z[:,-1:], axis = 1)\n",
    "t = 0\n",
    "s = np.copy(dataAndTrain1D[\"y_test\"][0])\n",
    "print(np.shape(y))\n",
    "y = y[:,5:]\n",
    "print(np.shape(s))\n",
    "for i in range(np.shape(s)[0]):\n",
    "    equal = True\n",
    "    for j in range(np.shape(s)[1]):\n",
    "        if s[i,j] != y[i,j]:\n",
    "            equal = False\n",
    "    if equal:\n",
    "        t += 1\n",
    "print(t/np.shape(y)[0]*100)"
   ]
  },
  {
   "cell_type": "code",
   "execution_count": 23,
   "metadata": {},
   "outputs": [
    {
     "data": {
      "text/plain": [
       "\"\\nHere you may add additional tests to for example:\\n\\n- Check if the ['d'] keys in the parameter dictionaries are not None, or receive something when running backward pass\\n- Check if the parameters change when you perform a gradient descent step\\n- Check if the loss decreases when you perform a gradient descent step\\n\\nThis is voluntary, but could be useful.\\n\""
      ]
     },
     "execution_count": 23,
     "metadata": {},
     "output_type": "execute_result"
    }
   ],
   "source": [
    "\"\"\"\n",
    "Here you may add additional tests to for example:\n",
    "\n",
    "- Check if the ['d'] keys in the parameter dictionaries are not None, or receive something when running backward pass\n",
    "- Check if the parameters change when you perform a gradient descent step\n",
    "- Check if the loss decreases when you perform a gradient descent step\n",
    "\n",
    "This is voluntary, but could be useful.\n",
    "\"\"\""
   ]
  },
  {
   "cell_type": "code",
   "execution_count": null,
   "metadata": {},
   "outputs": [],
   "source": []
  },
  {
   "cell_type": "code",
   "execution_count": 24,
   "metadata": {},
   "outputs": [],
   "source": [
    "#check if loss is non-negative\n",
    "assert L[-1] >= 0, f\"L={L}, expected L>=0\"\n",
    "assert grad_Z.shape == Z.shape, f\"grad_Z.shape={grad_Z.shape}, expected {Z.shape}\"\n",
    "\n",
    "#check if onehot(y) gives zero loss\n",
    "Y = onehot(y, m)\n",
    "L = loss.forward(Y, y)\n",
    "assert L < 1e-5, f\"L={L}, expected L<1e-5\"\n"
   ]
  },
  {
   "cell_type": "code",
   "execution_count": 89,
   "metadata": {},
   "outputs": [
    {
     "data": {
      "image/png": "[encoded data removed]",
      "text/plain": [
       "<Figure size 640x480 with 1 Axes>"
      ]
     },
     "metadata": {},
     "output_type": "display_data"
    },
    {
     "name": "stdout",
     "output_type": "stream",
     "text": [
      "L:  14.122521903696818 \n",
      "\n",
      "\n",
      "0.0 %\n",
      "0.0 %\n",
      "0.0 %\n",
      "0.0 %\n"
     ]
    }
   ],
   "source": [
    "n_max = 6\n",
    "m = 10\n",
    "n_iter = 150\n",
    "\n",
    "d = 30\n",
    "k = 20\n",
    "p = 40\n",
    "\n",
    "samples_per_batch = 150\n",
    "n_batches_train = 20\n",
    "n_batches_test = 4\n",
    "\n",
    "feed_forward1_add = FeedForward(d,p)\n",
    "attention1_add = Attention(d,k)\n",
    "feed_forward2_add = FeedForward(d,p)\n",
    "attention2_add = Attention(d,k)\n",
    "feed_forward3_add = FeedForward(d,p)\n",
    "attention3_add = Attention(d,k)\n",
    "embed_pos_add = EmbedPosition(n_max,m,d)\n",
    "un_embed_add = LinearLayer(d,m)\n",
    "softmax_add = Softmax()\n",
    "network_add = NeuralNetwork([embed_pos_add, feed_forward1_add, attention1_add, feed_forward2_add, attention2_add, feed_forward3_add, attention3_add, un_embed_add, softmax_add])\n",
    "loss_add = CrossEntropy()\n",
    "dataSet = get_train_test_addition(n_digit=2, samples_per_batch = samples_per_batch, n_batches_train = n_batches_train, n_batches_test = n_batches_test)\n",
    "data = [dataSet['x_train'],dataSet['y_train']]\n",
    "network_add, L = training(network_add, loss_add, data, n_iter, m, alpha = 0.001)\n",
    "\n",
    "fig, ax = plt.subplots()\n",
    "ax.plot(np.arange(0,len(L),1), L)\n",
    "plt.show()\n",
    "print(\"L: \", L[-1], \"\\n\\n\")\n",
    "\n",
    "t = 0\n",
    "\n",
    "for batch_number in range(n_batches_test):\n",
    "\n",
    "    x_arr = dataSet['x_test'][batch_number]\n",
    "\n",
    "    for i in range(3):\n",
    "        z = np.argmax(network_add.forward(onehot(x_arr,m)), axis = 1)\n",
    "        x_arr = np.append(x_arr, z[:,-1:], axis = 1)\n",
    "\n",
    "    for x in range(samples_per_batch):\n",
    "\n",
    "        useful_x_values = x_arr[x,-3:]\n",
    "\n",
    "        equal = True\n",
    "\n",
    "        for digit in range(3):\n",
    "            if useful_x_values[-(1+digit)]!=dataSet['y_test'][batch_number,x,digit]:\n",
    "                equal = False\n",
    "\n",
    "        if equal:\n",
    "            t+=1\n",
    "        \n",
    "    print(t/(samples_per_batch*(batch_number+1))*100, \"%\")\n"
   ]
  },
  {
   "cell_type": "code",
   "execution_count": 86,
   "metadata": {},
   "outputs": [
    {
     "data": {
      "image/png": "[encoded data removed]",
      "text/plain": [
       "<Figure size 640x480 with 1 Axes>"
      ]
     },
     "metadata": {},
     "output_type": "display_data"
    },
    {
     "name": "stdout",
     "output_type": "stream",
     "text": [
      "L:  0.9958429826201299 \n",
      "\n",
      "\n",
      "[5 3 7 9] \n",
      " [1 3 2] \n",
      " [1 4 4]\n",
      "[2 6 0 7] \n",
      " [0 3 3] \n",
      " [2 2 2]\n",
      "[5 0 5 5] \n",
      " [1 0 5] \n",
      " [4 2 2]\n",
      "[6 8 4 5] \n",
      " [1 1 3] \n",
      " [5 5 5]\n",
      "[2 5 2 9] \n",
      " [0 5 4] \n",
      " [1 4 1]\n",
      "[7 1 2 1] \n",
      " [0 9 2] \n",
      " [7 7 7]\n",
      "0.0 %\n",
      "[1 3 7 5] \n",
      " [0 8 8] \n",
      " [0 0 0]\n",
      "[0 1 1 6] \n",
      " [0 1 7] \n",
      " [4 4 4]\n",
      "[4 7 4 4] \n",
      " [0 9 1] \n",
      " [1 1 1]\n",
      "[7 8 8 4] \n",
      " [1 6 2] \n",
      " [1 2 6]\n",
      "[8 0 2 0] \n",
      " [1 0 0] \n",
      " [2 2 2]\n",
      "[9 9 7 3] \n",
      " [1 7 2] \n",
      " [6 6 6]\n",
      "0.0 %\n",
      "[5 4 6 7] \n",
      " [1 2 1] \n",
      " [4 4 4]\n",
      "[1 2 2 9] \n",
      " [0 4 1] \n",
      " [0 0 0]\n",
      "[1 1 3 3] \n",
      " [0 4 4] \n",
      " [0 0 7]\n",
      "[8 5 3 0] \n",
      " [1 1 5] \n",
      " [6 6 6]\n",
      "[8 1 9 8] \n",
      " [1 7 9] \n",
      " [6 6 6]\n",
      "[4 4 2 3] \n",
      " [0 6 7] \n",
      " [1 1 1]\n",
      "0.0 %\n",
      "[0 0 3 0] \n",
      " [0 3 0] \n",
      " [2 2 2]\n",
      "[7 6 5 2] \n",
      " [1 2 8] \n",
      " [2 2 2]\n",
      "[9 5 8 5] \n",
      " [1 8 0] \n",
      " [6 6 6]\n",
      "[9 2 4 6] \n",
      " [1 3 8] \n",
      " [1 6 1]\n",
      "[9 5 1 0] \n",
      " [1 0 5] \n",
      " [6 6 6]\n",
      "[6 7 0 1] \n",
      " [0 6 8] \n",
      " [5 5 0]\n",
      "0.0 %\n"
     ]
    }
   ],
   "source": [
    "fig, ax = plt.subplots()\n",
    "ax.plot(np.arange(0,len(L),1), L)\n",
    "plt.show()\n",
    "print(\"L: \", L[-1], \"\\n\\n\")\n",
    "\n",
    "t = 0\n",
    "\n",
    "for batch_number in range(n_batches_test):\n",
    "\n",
    "    x_arr = dataSet['x_test'][batch_number]\n",
    "\n",
    "    for i in range(3):\n",
    "        z = np.argmax(network_add.forward(onehot(x_arr,m)), axis = 1)\n",
    "        x_arr = np.append(x_arr, z[:,-1:], axis = 1)\n",
    "\n",
    "    for x in range(samples_per_batch):\n",
    "\n",
    "        useful_x_values = x_arr[x,-3:]\n",
    "        equal = True\n",
    "\n",
    "        if x%25==0:\n",
    "            print(dataSet['x_test'][batch_number,x], \"\\n\", dataSet['y_test'][batch_number,x], \"\\n\", useful_x_values)\n",
    "\n",
    "        for digit in range(3):\n",
    "            if useful_x_values[-(1+digit)]!=dataSet['y_test'][batch_number,x,digit]:\n",
    "                equal = False\n",
    "\n",
    "        if equal:\n",
    "            t+=1\n",
    "        \n",
    "    print(t/(samples_per_batch*n_batches_test)*100, \"%\")"
   ]
  }
 ],
 "metadata": {
  "kernelspec": {
   "display_name": "Python 3",
   "language": "python",
   "name": "python3"
  },
  "language_info": {
   "codemirror_mode": {
    "name": "ipython",
    "version": 3
   },
   "file_extension": ".py",
   "mimetype": "text/x-python",
   "name": "python",
   "nbconvert_exporter": "python",
   "pygments_lexer": "ipython3",
   "version": "3.10.7"
  }
 },
 "nbformat": 4,
 "nbformat_minor": 2
}
