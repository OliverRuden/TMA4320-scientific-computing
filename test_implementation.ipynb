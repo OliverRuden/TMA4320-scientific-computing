{
 "cells": [
  {
   "cell_type": "markdown",
   "metadata": {},
   "source": [
    "# Problem $3$: Testing and training the transformer model\n",
    "\n",
    "In this file we test and train the transformer model we implemented in problem $2$. "
   ]
  },
  {
   "cell_type": "code",
   "execution_count": 15,
   "metadata": {},
   "outputs": [],
   "source": [
    "from layers import *\n",
    "from neural_network import NeuralNetwork\n",
    "from utils import onehot\n",
    "import numpy as np\n",
    "import matplotlib.pyplot as plt\n",
    "from data_generators import *\n",
    "from training_utils import *"
   ]
  },
  {
   "cell_type": "markdown",
   "metadata": {},
   "source": [
    "### $3.1$: Testing if the layers are implemented correctly\n",
    "Here, we check that the functions implemented return matrices of the correct dimensions, and that the functions run. "
   ]
  },
  {
   "cell_type": "code",
   "execution_count": 92,
   "metadata": {},
   "outputs": [],
   "source": [
    "#We choose some arbitrary values for the dimensions\n",
    "b = 6\n",
    "n_max = 7\n",
    "m = 8\n",
    "n = 5\n",
    "\n",
    "d = 10\n",
    "k = 5\n",
    "p = 20\n",
    "\n",
    "#Create an arbitrary dataset\n",
    "x = np.random.randint(0, m, (b,n))\n",
    "y = np.random.randint(0, m, (b,n_max))\n",
    "\n",
    "#initialize the layers\n",
    "feed_forward = FeedForward(d,p)\n",
    "attention = Attention(d,k)\n",
    "embed_pos = EmbedPosition(n_max,m,d)\n",
    "un_embed = LinearLayer(d,m)\n",
    "softmax = Softmax()\n",
    "\n",
    "\n",
    "#a manual forward pass\n",
    "X = onehot(x, m)\n",
    "z0 = embed_pos.forward(X)\n",
    "z1 = feed_forward.forward(z0)\n",
    "z2 = attention.forward(z1)\n",
    "z3 = un_embed.forward(z2)\n",
    "Z = softmax.forward(z3) \n",
    "\n",
    "\n",
    "\n",
    "#check the shapes\n",
    "assert X.shape == (b,m,n), f\"X.shape={X.shape}, expected {(b,m,n)}\"\n",
    "assert z0.shape == (b,d,n), f\"z0.shape={z0.shape}, expected {(b,d,n)}\"\n",
    "assert z1.shape == (b,d,n), f\"z1.shape={z1.shape}, expected {(b,d,n)}\"\n",
    "assert z2.shape == (b,d,n), f\"z2.shape={z2.shape}, expected {(b,d,n)}\"\n",
    "assert z3.shape == (b,m,n), f\"z3.shape={z3.shape}, expected {(b,m,n)}\"\n",
    "assert Z.shape == (b,m,n), f\"Z.shape={Z.shape}, expected {(b,m,n)}\"\n",
    "\n",
    "#is X one-hot?\n",
    "assert X.sum() == b*n, f\"X.sum()={X.sum()}, expected {b*n}\"\n",
    "\n",
    "\n",
    "assert np.allclose(Z.sum(axis=1), 1), f\"Z.sum(axis=1)={Z.sum(axis=1)}, expected {np.ones(b)}\"\n",
    "assert np.abs(Z.sum() - b*n) < 1e-5, f\"Z.sum()={Z.sum()}, expected {b*n}\"\n",
    "assert np.all(Z>=0), f\"Z={Z}, expected all entries to be non-negative\"\n",
    "\n",
    "\"\"\"\n",
    "Passes all checks\n",
    "\"\"\""
   ]
  },
  {
   "cell_type": "markdown",
   "metadata": {},
   "source": [
    "Now that we know all matrices are of correct dimension, we check that we can do a forward and backward pass, and that $\\texttt{step\\_gd()}$ works. In essence, checking if the system learns. We print $L$ for every $1000$ iteration, to check that the loss function continues to decrease. "
   ]
  },
  {
   "cell_type": "code",
   "execution_count": 94,
   "metadata": {},
   "outputs": [
    {
     "name": "stdout",
     "output_type": "stream",
     "text": [
      "L number 0 is 13.5356492\n",
      "L number 1000 is 0.0001030\n",
      "L number 2000 is 0.0000446\n",
      "L number 3000 is 0.0000276\n",
      "L number 4000 is 0.0000197\n",
      "L number 5000 is 0.0000151\n",
      "L number 6000 is 0.0000122\n",
      "L number 7000 is 0.0000102\n",
      "L number 8000 is 0.0000088\n",
      "L number 9000 is 0.0000076\n"
     ]
    }
   ],
   "source": [
    "#test the forward pass\n",
    "n_y = n_max - 1\n",
    "x = np.random.randint(0, m, (b,n_max))\n",
    "X = onehot(x, m)\n",
    "\n",
    "#we test with a y that is shorter than the maximum length\n",
    "y = np.random.randint(0, m, (b,n_y))\n",
    "\n",
    "#initialize a neural network based on the layers above\n",
    "network = NeuralNetwork([embed_pos, feed_forward, attention, un_embed, softmax])\n",
    "#and a loss function\n",
    "loss = CrossEntropy()\n",
    "\n",
    "N = 10000\n",
    "#do a forward pass\n",
    "for i in range(N):\n",
    "    Z = network.forward(X)\n",
    "\n",
    "    #compute the loss\n",
    "    L = loss.forward(Z, y)\n",
    "    if not (i%(N//10)):\n",
    "        print(f\"L number {i} is {L:.7f}\")\n",
    "\n",
    "    #get the derivative of the loss wrt Z\n",
    "    grad_Z = loss.backward()\n",
    "\n",
    "    #and perform a backward pass\n",
    "    _ = network.backward(grad_Z)\n",
    "\n",
    "    #and and do a gradient descent step\n",
    "    _ = network.step_gd(0.1)"
   ]
  },
  {
   "cell_type": "code",
   "execution_count": 20,
   "metadata": {},
   "outputs": [],
   "source": [
    "nBatches = 10\n",
    "batchSize = 250\n",
    "n_max = 9\n",
    "m = 8\n",
    "n_iter = 500\n",
    "feed_forward1O = FeedForward(d,p)\n",
    "attention1O = Attention(d,k)\n",
    "feed_forward2O = FeedForward(d,p)\n",
    "attention2O = Attention(d,k)\n",
    "embed_pos1O = EmbedPosition(n_max,m,d)\n",
    "un_embed1O = LinearLayer(d,m)\n",
    "softmax1O = Softmax()\n",
    "network1O = NeuralNetwork([embed_pos1O, feed_forward1O, attention1O, feed_forward2O, attention2O, un_embed1O, softmax1O])\n",
    "loss1O = CrossEntropy()\n",
    "dataSet1O = generateSortData(nBatches, batchSize, n_max, m)\n",
    "network1O,L = training(network1O, loss1O, dataSet1O, n_iter, m, alpha = 0.001)\n"
   ]
  },
  {
   "cell_type": "code",
   "execution_count": 21,
   "metadata": {},
   "outputs": [
    {
     "data": {
      "image/png": "[encoded data removed]",
      "text/plain": [
       "<Figure size 640x480 with 1 Axes>"
      ]
     },
     "metadata": {},
     "output_type": "display_data"
    },
    {
     "name": "stdout",
     "output_type": "stream",
     "text": [
      "0.002206258977819866\n",
      "97.5\n"
     ]
    }
   ],
   "source": [
    "fig, ax = plt.subplots()\n",
    "ax.plot(np.arange(0,len(L),1), L)\n",
    "plt.show()\n",
    "print(L[-1])\n",
    "N = 1000\n",
    "y = np.random.randint(0,m,(N,5))\n",
    "s = np.copy(y)\n",
    "s = np.sort(s, axis = 1)\n",
    "for i in range(5):\n",
    "    z = np.argmax(network1O.forward(onehot(y,m)), axis = 1)\n",
    "    y = np.append(y, z[:,-1:], axis = 1)\n",
    "y = y[:,5:]\n",
    "t = 0\n",
    "for i in range(len(s)):\n",
    "    equal = True\n",
    "    for j in range(len(s[i])):\n",
    "        if s[i,j] != y[i,j]:\n",
    "            equal = False\n",
    "    if equal:\n",
    "        t += 1\n",
    "print(t/N*100)"
   ]
  },
  {
   "cell_type": "code",
   "execution_count": 95,
   "metadata": {},
   "outputs": [],
   "source": [
    "nBatches = 10\n",
    "batchSize = 250\n",
    "length = 5\n",
    "n_max = 9\n",
    "m = 8\n",
    "n_iter = 500\n",
    "d = 10\n",
    "k = 5\n",
    "p = 15\n",
    "\n",
    "feed_forward1D = FeedForward(d,p)\n",
    "attention1D = Attention(d,k)\n",
    "feed_forward2D = FeedForward(d,p)\n",
    "attention2D = Attention(d,k)\n",
    "embed_pos1D = EmbedPosition(n_max,m,d)\n",
    "un_embed1D = LinearLayer(d,m)\n",
    "softmax1D = Softmax()\n",
    "network1D = NeuralNetwork([embed_pos1D, feed_forward1D, attention1D, feed_forward2D, attention2D, un_embed1D, softmax1D])\n",
    "loss1D = CrossEntropy()\n",
    "dataAndTrain1D = get_train_test_sorting(length, m, batchSize, nBatches, n_batches_test=1)\n",
    "dataSet1D = [dataAndTrain1D[\"x_train\"], dataAndTrain1D[\"y_train\"]]\n",
    "network,L = training(network1D, loss1D, dataSet1D, n_iter, m, alpha = 0.001)\n",
    "fig, ax = plt.subplots()\n",
    "ax.plot(np.arange(0,np.size(L),1), L)\n",
    "plt.show()\n",
    "print(L[-1])\n",
    "y = np.copy(dataAndTrain1D[\"x_test\"][0])\n",
    "for i in range(5):\n",
    "    z = np.argmax(network1D.forward(onehot(y,m)), axis = 1)\n",
    "    y = np.append(y, z[:,-1:], axis = 1)\n",
    "t = 0\n",
    "s = np.copy(dataAndTrain1D[\"y_test\"][0])\n",
    "y = y[:,5:]\n",
    "for i in range(np.shape(s)[0]):\n",
    "    equal = True\n",
    "    for j in range(np.shape(s)[1]):\n",
    "        if s[i,j] != y[i,j]:\n",
    "            equal = False\n",
    "    if equal:\n",
    "        t += 1\n",
    "print(t/np.shape(y)[0]*100)"
   ]
  },
  {
   "cell_type": "code",
   "execution_count": 23,
   "metadata": {},
   "outputs": [
    {
     "data": {
      "text/plain": [
       "\"\\nHere you may add additional tests to for example:\\n\\n- Check if the ['d'] keys in the parameter dictionaries are not None, or receive something when running backward pass\\n- Check if the parameters change when you perform a gradient descent step\\n- Check if the loss decreases when you perform a gradient descent step\\n\\nThis is voluntary, but could be useful.\\n\""
      ]
     },
     "execution_count": 23,
     "metadata": {},
     "output_type": "execute_result"
    }
   ],
   "source": [
    "\"\"\"\n",
    "Here you may add additional tests to for example:\n",
    "\n",
    "- Check if the ['d'] keys in the parameter dictionaries are not None, or receive something when running backward pass\n",
    "- Check if the parameters change when you perform a gradient descent step\n",
    "- Check if the loss decreases when you perform a gradient descent step\n",
    "\n",
    "This is voluntary, but could be useful.\n",
    "\"\"\""
   ]
  },
  {
   "cell_type": "code",
   "execution_count": 24,
   "metadata": {},
   "outputs": [],
   "source": [
    "#check if loss is non-negative\n",
    "assert L[-1] >= 0, f\"L={L}, expected L>=0\"\n",
    "assert grad_Z.shape == Z.shape, f\"grad_Z.shape={grad_Z.shape}, expected {Z.shape}\"\n",
    "\n",
    "#check if onehot(y) gives zero loss\n",
    "Y = onehot(y, m)\n",
    "L = loss.forward(Y, y)\n",
    "assert L < 1e-5, f\"L={L}, expected L<1e-5\"\n"
   ]
  },
  {
   "cell_type": "code",
   "execution_count": 91,
   "metadata": {},
   "outputs": [
    {
     "data": {
      "image/png": "[encoded data removed]",
      "text/plain": [
       "<Figure size 640x480 with 1 Axes>"
      ]
     },
     "metadata": {},
     "output_type": "display_data"
    },
    {
     "name": "stdout",
     "output_type": "stream",
     "text": [
      "L:  14.368130980282848 \n",
      "\n",
      "\n",
      "0.0 %\n",
      "0.0 %\n",
      "0.0 %\n",
      "0.0 %\n"
     ]
    }
   ],
   "source": [
    "n_max = 6\n",
    "m = 10\n",
    "n_iter = 150\n",
    "\n",
    "d = 30\n",
    "k = 20\n",
    "p = 40\n",
    "\n",
    "samples_per_batch = 150\n",
    "n_batches_train = 20\n",
    "n_batches_test = 4\n",
    "\n",
    "feed_forward1_add = FeedForward(d,p)\n",
    "attention1_add = Attention(d,k)\n",
    "feed_forward2_add = FeedForward(d,p)\n",
    "attention2_add = Attention(d,k)\n",
    "feed_forward3_add = FeedForward(d,p)\n",
    "attention3_add = Attention(d,k)\n",
    "embed_pos_add = EmbedPosition(n_max,m,d)\n",
    "un_embed_add = LinearLayer(d,m)\n",
    "softmax_add = Softmax()\n",
    "network_add = NeuralNetwork([embed_pos_add, feed_forward1_add, attention1_add, feed_forward2_add, attention2_add, feed_forward3_add, attention3_add, un_embed_add, softmax_add])\n",
    "loss_add = CrossEntropy()\n",
    "dataSet = get_train_test_addition(n_digit=2, samples_per_batch = samples_per_batch, n_batches_train = n_batches_train, n_batches_test = n_batches_test)\n",
    "data = [dataSet['x_train'],dataSet['y_train']]\n",
    "network_add, L = training(network_add, loss_add, data, n_iter, m, alpha = 0.001)\n",
    "\n",
    "fig, ax = plt.subplots()\n",
    "ax.plot(np.arange(0,len(L),1), L)\n",
    "plt.show()\n",
    "print(\"L: \", L[-1], \"\\n\\n\")\n",
    "\n",
    "t = 0\n",
    "\n",
    "for batch_number in range(n_batches_test):\n",
    "\n",
    "    x_arr = dataSet['x_test'][batch_number]\n",
    "\n",
    "    for i in range(3):\n",
    "        z = np.argmax(network_add.forward(onehot(x_arr,m)), axis = 1)\n",
    "        x_arr = np.append(x_arr, z[:,-1:], axis = 1)\n",
    "\n",
    "    for x in range(samples_per_batch):\n",
    "\n",
    "        useful_x_values = x_arr[x,-3:]\n",
    "\n",
    "        equal = True\n",
    "\n",
    "        for digit in range(3):\n",
    "            if useful_x_values[-(1+digit)]!=dataSet['y_test'][batch_number,x,digit]:\n",
    "                equal = False\n",
    "\n",
    "        if equal:\n",
    "            t+=1\n",
    "        \n",
    "    print(t/(samples_per_batch*(batch_number+1))*100, \"%\")\n"
   ]
  }
 ],
 "metadata": {
  "kernelspec": {
   "display_name": "Python 3",
   "language": "python",
   "name": "python3"
  },
  "language_info": {
   "codemirror_mode": {
    "name": "ipython",
    "version": 3
   },
   "file_extension": ".py",
   "mimetype": "text/x-python",
   "name": "python",
   "nbconvert_exporter": "python",
   "pygments_lexer": "ipython3",
   "version": "3.9.12"
  }
 },
 "nbformat": 4,
 "nbformat_minor": 2
}
