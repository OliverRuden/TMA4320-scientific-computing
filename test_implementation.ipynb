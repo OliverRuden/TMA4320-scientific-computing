{
 "cells": [
  {
   "cell_type": "markdown",
   "metadata": {},
   "source": [
    "# Test om koden er riktig implementert\n",
    "\n",
    "Her er et forslag til testfunksjoner for å sjekke om koden er riktig implementert.\n",
    "```assert variabel``` vil gi en feilmelding med mindre variabelen ```variabel = True```. For eksempel vil ```assert a == b``` gi en feilmelding med mindre ```a``` og ```b``` er like."
   ]
  },
  {
   "cell_type": "code",
   "execution_count": 152,
   "metadata": {},
   "outputs": [],
   "source": [
    "#For eksempel:\n",
    "variable = True\n",
    "assert variable, \"You need to change 'variable' to True\""
   ]
  },
  {
   "cell_type": "code",
   "execution_count": 153,
   "metadata": {},
   "outputs": [],
   "source": [
    "from layers import *\n",
    "from neural_network import NeuralNetwork\n",
    "from utils import onehot\n",
    "import numpy as np\n",
    "import matplotlib.pyplot as plt\n",
    "from data_generators import *"
   ]
  },
  {
   "cell_type": "code",
   "execution_count": 154,
   "metadata": {},
   "outputs": [],
   "source": [
    "#We choose some arbitrary values for the dimensions\n",
    "b = 1\n",
    "n_max = 7\n",
    "m = 8\n",
    "n = 5\n",
    "\n",
    "d = 10\n",
    "k = 5\n",
    "p = 15\n",
    "\n",
    "#Create an arbitrary dataset\n",
    "x = np.random.randint(0, m, (b,n))\n",
    "y = np.random.randint(0, m, (b,n_max))\n",
    "\n",
    "#initialize the layers\n",
    "feed_forward = FeedForward(d,p)\n",
    "attention = Attention(d,k)\n",
    "embed_pos = EmbedPosition(n_max,m,d)\n",
    "un_embed = LinearLayer(d,m)\n",
    "softmax = Softmax()\n",
    "\n",
    "\n",
    "#a manual forward pass\n",
    "X = onehot(x, m)\n",
    "z0 = embed_pos.forward(X)\n",
    "z1 = feed_forward.forward(z0)\n",
    "z2 = attention.forward(z1)\n",
    "z3 = un_embed.forward(z2)\n",
    "Z = softmax.forward(z3) \n",
    "\n",
    "\n",
    "\n",
    "#check the shapes\n",
    "assert X.shape == (b,m,n), f\"X.shape={X.shape}, expected {(b,m,n)}\"\n",
    "assert z0.shape == (b,d,n), f\"z0.shape={z0.shape}, expected {(b,d,n)}\"\n",
    "assert z1.shape == (b,d,n), f\"z1.shape={z1.shape}, expected {(b,d,n)}\"\n",
    "assert z2.shape == (b,d,n), f\"z2.shape={z2.shape}, expected {(b,d,n)}\"\n",
    "assert z3.shape == (b,m,n), f\"z3.shape={z3.shape}, expected {(b,m,n)}\"\n",
    "assert Z.shape == (b,m,n), f\"Z.shape={Z.shape}, expected {(b,m,n)}\"\n",
    "\n",
    "#is X one-hot?\n",
    "assert X.sum() == b*n, f\"X.sum()={X.sum()}, expected {b*n}\"\n",
    "\n",
    "\n",
    "assert np.allclose(Z.sum(axis=1), 1), f\"Z.sum(axis=1)={Z.sum(axis=1)}, expected {np.ones(b)}\"\n",
    "assert np.abs(Z.sum() - b*n) < 1e-5, f\"Z.sum()={Z.sum()}, expected {b*n}\"\n",
    "assert np.all(Z>=0), f\"Z={Z}, expected all entries to be non-negative\"\n"
   ]
  },
  {
   "cell_type": "code",
   "execution_count": 155,
   "metadata": {},
   "outputs": [
    {
     "name": "stdout",
     "output_type": "stream",
     "text": [
      "2.1326520699760554\n",
      "0.0009388564792904317\n",
      "0.0003373416326652683\n",
      "0.0001831875406382457\n",
      "0.00011349245047936494\n",
      "7.777658689694319e-05\n",
      "5.832010437514863e-05\n",
      "4.649945751900591e-05\n",
      "3.859846231663361e-05\n",
      "3.294636626089202e-05\n"
     ]
    }
   ],
   "source": [
    "\n",
    "#test the forward pass\n",
    "n_y = n_max - 1\n",
    "x = np.random.randint(0, m, (b,n_max))\n",
    "X = onehot(x, m)\n",
    "\n",
    "#we test with a y that is shorter than the maximum length\n",
    "y = np.random.randint(0, m, (b,n_y))\n",
    "\n",
    "#initialize a neural network based on the layers above\n",
    "network = NeuralNetwork([embed_pos, feed_forward, attention, un_embed, softmax])\n",
    "#and a loss function\n",
    "loss = CrossEntropy()\n",
    "\n",
    "N = 10000\n",
    "#do a forward pass\n",
    "for i in range(N):\n",
    "    Z = network.forward(X)\n",
    "\n",
    "    #compute the loss\n",
    "    L = loss.forward(Z, y)\n",
    "    if not (i%(N//10)):\n",
    "        print(L)\n",
    "\n",
    "    #get the derivative of the loss wrt Z\n",
    "    grad_Z = loss.backward()\n",
    "\n",
    "    #and perform a backward pass\n",
    "    _ = network.backward(grad_Z)\n",
    "\n",
    "    #and and do a gradient descent step\n",
    "    _ = network.step_gd(0.1)"
   ]
  },
  {
   "cell_type": "code",
   "execution_count": 156,
   "metadata": {},
   "outputs": [],
   "source": [
    "def training(neuralNetwork, objectFunction, dataSet, nIter, m, alpha = 0.01, beta_1 = 0.9, beta_2 = 0.999):\n",
    "    L = []\n",
    "    for i in range(nIter):\n",
    "        for batchNumber, x in enumerate(dataSet[0]):\n",
    "            X = onehot(x,m)\n",
    "            Z = neuralNetwork.forward(X)\n",
    "            L.append(objectFunction.forward(Z,dataSet[1][batchNumber]))\n",
    "            grad_Z = objectFunction.backward()\n",
    "            neuralNetwork.backward(grad_Z)\n",
    "            neuralNetwork.adamStep(i, batchNumber, len(dataSet[0]), alpha = alpha, beta_1 = beta_1, beta_2 = beta_2)\n",
    "    return neuralNetwork, L\n",
    "            "
   ]
  },
  {
   "cell_type": "code",
   "execution_count": 157,
   "metadata": {},
   "outputs": [],
   "source": [
    "def generateSortData(numberOfBatches, batchSize, n_max, m):\n",
    "    x = np.random.randint(0,m,(numberOfBatches,batchSize, (n_max+1)//2))\n",
    "    y = np.sort(x, axis = 2)\n",
    "    x = np.append(x,y, axis = 2)[:,:,:-1]\n",
    "    return [x,y]"
   ]
  },
  {
   "cell_type": "code",
   "execution_count": 158,
   "metadata": {},
   "outputs": [],
   "source": [
    "# nBatches = 10\n",
    "# batchSize = 250\n",
    "# n_max = 9\n",
    "# m = 8\n",
    "# n_iter = 500\n",
    "# feed_forward = FeedForward(d,p)\n",
    "# attention = Attention(d,k)\n",
    "# feed_forward2 = FeedForward(d,p)\n",
    "# attention2 = Attention(d,k)\n",
    "# embed_pos = EmbedPosition(n_max,m,d)\n",
    "# un_embed = LinearLayer(d,m)\n",
    "# softmax = Softmax()\n",
    "# network = NeuralNetwork([embed_pos, feed_forward, attention, feed_forward2, attention2, un_embed, softmax])\n",
    "# loss = CrossEntropy()\n",
    "# dataSet = generateSortData(nBatches, batchSize, n_max, m)\n",
    "# network,L = training(network, loss, dataSet, n_iter, m, alpha = 0.001)\n"
   ]
  },
  {
   "cell_type": "code",
   "execution_count": 159,
   "metadata": {},
   "outputs": [],
   "source": [
    "# fig, ax = plt.subplots()\n",
    "# ax.plot(np.arange(0,len(L),1), L)\n",
    "# plt.show()\n",
    "# print(L[-1])\n",
    "# N = 1000\n",
    "# y = np.random.randint(0,m,(N,5))\n",
    "# s = np.copy(y)\n",
    "# s = np.sort(s, axis = 1)\n",
    "# for i in range(5):\n",
    "#     z = np.argmax(network.forward(onehot(y,m)), axis = 1)\n",
    "#     y = np.append(y, z[:,-1:], axis = 1)\n",
    "# y = y[:,5:]\n",
    "# t = 0\n",
    "# for i in range(len(s)):\n",
    "#     equal = True\n",
    "#     for j in range(len(s[i])):\n",
    "#         if s[i,j] != y[i,j]:\n",
    "#             equal = False\n",
    "#     if equal:\n",
    "#         t += 1\n",
    "# print(t/N*100)"
   ]
  },
  {
   "cell_type": "code",
   "execution_count": 160,
   "metadata": {},
   "outputs": [
    {
     "data": {
      "text/plain": [
       "\"\\nHere you may add additional tests to for example:\\n\\n- Check if the ['d'] keys in the parameter dictionaries are not None, or receive something when running backward pass\\n- Check if the parameters change when you perform a gradient descent step\\n- Check if the loss decreases when you perform a gradient descent step\\n\\nThis is voluntary, but could be useful.\\n\""
      ]
     },
     "execution_count": 160,
     "metadata": {},
     "output_type": "execute_result"
    }
   ],
   "source": [
    "\"\"\"\n",
    "Here you may add additional tests to for example:\n",
    "\n",
    "- Check if the ['d'] keys in the parameter dictionaries are not None, or receive something when running backward pass\n",
    "- Check if the parameters change when you perform a gradient descent step\n",
    "- Check if the loss decreases when you perform a gradient descent step\n",
    "\n",
    "This is voluntary, but could be useful.\n",
    "\"\"\""
   ]
  },
  {
   "cell_type": "code",
   "execution_count": null,
   "metadata": {},
   "outputs": [],
   "source": []
  },
  {
   "cell_type": "code",
   "execution_count": 161,
   "metadata": {},
   "outputs": [
    {
     "ename": "IndexError",
     "evalue": "invalid index to scalar variable.",
     "output_type": "error",
     "traceback": [
      "\u001b[0;31m---------------------------------------------------------------------------\u001b[0m",
      "\u001b[0;31mIndexError\u001b[0m                                Traceback (most recent call last)",
      "Cell \u001b[0;32mIn[161], line 2\u001b[0m\n\u001b[1;32m      1\u001b[0m \u001b[39m#check if loss is non-negative\u001b[39;00m\n\u001b[0;32m----> 2\u001b[0m \u001b[39massert\u001b[39;00m L[\u001b[39m-\u001b[39;49m\u001b[39m1\u001b[39;49m] \u001b[39m>\u001b[39m\u001b[39m=\u001b[39m \u001b[39m0\u001b[39m, \u001b[39mf\u001b[39m\u001b[39m\"\u001b[39m\u001b[39mL=\u001b[39m\u001b[39m{\u001b[39;00mL\u001b[39m}\u001b[39;00m\u001b[39m, expected L>=0\u001b[39m\u001b[39m\"\u001b[39m\n\u001b[1;32m      3\u001b[0m \u001b[39massert\u001b[39;00m grad_Z\u001b[39m.\u001b[39mshape \u001b[39m==\u001b[39m Z\u001b[39m.\u001b[39mshape, \u001b[39mf\u001b[39m\u001b[39m\"\u001b[39m\u001b[39mgrad_Z.shape=\u001b[39m\u001b[39m{\u001b[39;00mgrad_Z\u001b[39m.\u001b[39mshape\u001b[39m}\u001b[39;00m\u001b[39m, expected \u001b[39m\u001b[39m{\u001b[39;00mZ\u001b[39m.\u001b[39mshape\u001b[39m}\u001b[39;00m\u001b[39m\"\u001b[39m\n\u001b[1;32m      5\u001b[0m \u001b[39m#check if onehot(y) gives zero loss\u001b[39;00m\n",
      "\u001b[0;31mIndexError\u001b[0m: invalid index to scalar variable."
     ]
    }
   ],
   "source": [
    "#check if loss is non-negative\n",
    "assert L[-1] >= 0, f\"L={L}, expected L>=0\"\n",
    "assert grad_Z.shape == Z.shape, f\"grad_Z.shape={grad_Z.shape}, expected {Z.shape}\"\n",
    "\n",
    "#check if onehot(y) gives zero loss\n",
    "Y = onehot(y, m)\n",
    "L = loss.forward(Y, y)\n",
    "assert L < 1e-5, f\"L={L}, expected L<1e-5\"\n"
   ]
  },
  {
   "cell_type": "code",
   "execution_count": 162,
   "metadata": {},
   "outputs": [],
   "source": [
    "n_max = 6\n",
    "m = 10\n",
    "n_iter = 20\n",
    "\n",
    "d = 30\n",
    "k = 20\n",
    "p = 40 \n",
    "\n",
    "feed_forward1 = FeedForward(d,p)\n",
    "attention1 = Attention(d,k)\n",
    "feed_forward2 = FeedForward(d,p)\n",
    "attention2 = Attention(d,k)\n",
    "feed_forward3 = FeedForward(d,p)\n",
    "attention3 = Attention(d,k)\n",
    "embed_pos = EmbedPosition(n_max,m,d)\n",
    "un_embed = LinearLayer(d,m)\n",
    "softmax = Softmax()\n",
    "network = NeuralNetwork([embed_pos, feed_forward1, attention1, feed_forward2, attention2, feed_forward3, attention3, un_embed, softmax])\n",
    "loss = CrossEntropy()\n",
    "dataSet = get_train_test_addition(n_digit=2,samples_per_batch = 250,n_batches_train = 20, n_batches_test = 4)\n",
    "network,L = training(network, loss, [dataSet['x_train'],dataSet['y_train']], n_iter, m, alpha = 0.001)\n",
    "\n"
   ]
  },
  {
   "cell_type": "code",
   "execution_count": 165,
   "metadata": {},
   "outputs": [
    {
     "data": {
      "image/png": "[encoded data removed]",
      "text/plain": [
       "<Figure size 640x480 with 1 Axes>"
      ]
     },
     "metadata": {},
     "output_type": "display_data"
    },
    {
     "name": "stdout",
     "output_type": "stream",
     "text": [
      "15.252323655992564\n"
     ]
    },
    {
     "ename": "ValueError",
     "evalue": "all the input arrays must have same number of dimensions, but the array at index 0 has 3 dimension(s) and the array at index 1 has 2 dimension(s)",
     "output_type": "error",
     "traceback": [
      "\u001b[0;31m---------------------------------------------------------------------------\u001b[0m",
      "\u001b[0;31mValueError\u001b[0m                                Traceback (most recent call last)",
      "Cell \u001b[0;32mIn[165], line 12\u001b[0m\n\u001b[1;32m     10\u001b[0m \u001b[39mfor\u001b[39;00m i \u001b[39min\u001b[39;00m \u001b[39mrange\u001b[39m(\u001b[39m3\u001b[39m):\n\u001b[1;32m     11\u001b[0m     z \u001b[39m=\u001b[39m np\u001b[39m.\u001b[39margmax(network\u001b[39m.\u001b[39mforward(onehot(dataSet[\u001b[39m'\u001b[39m\u001b[39mx_train\u001b[39m\u001b[39m'\u001b[39m][batch_number],m)), axis \u001b[39m=\u001b[39m \u001b[39m1\u001b[39m)\n\u001b[0;32m---> 12\u001b[0m     dataSet[\u001b[39m'\u001b[39m\u001b[39mx_train\u001b[39m\u001b[39m'\u001b[39m][batch_number] \u001b[39m=\u001b[39m np\u001b[39m.\u001b[39;49mappend(dataSet[\u001b[39m'\u001b[39;49m\u001b[39mx_train\u001b[39;49m\u001b[39m'\u001b[39;49m], z[:,\u001b[39m-\u001b[39;49m\u001b[39m1\u001b[39;49m:], axis \u001b[39m=\u001b[39;49m \u001b[39m1\u001b[39;49m)\n\u001b[1;32m     14\u001b[0m \u001b[39mfor\u001b[39;00m x \u001b[39min\u001b[39;00m \u001b[39mrange\u001b[39m(\u001b[39mlen\u001b[39m(dataSet[\u001b[39m'\u001b[39m\u001b[39mx_train\u001b[39m\u001b[39m'\u001b[39m][\u001b[39m0\u001b[39m])):\n\u001b[1;32m     16\u001b[0m     useful_x_values \u001b[39m=\u001b[39m dataSet[\u001b[39m'\u001b[39m\u001b[39mx_train\u001b[39m\u001b[39m'\u001b[39m][batch_number][x,\u001b[39m-\u001b[39m\u001b[39m3\u001b[39m:]\n",
      "File \u001b[0;32m<__array_function__ internals>:180\u001b[0m, in \u001b[0;36mappend\u001b[0;34m(*args, **kwargs)\u001b[0m\n",
      "File \u001b[0;32m/Library/Frameworks/Python.framework/Versions/3.10/lib/python3.10/site-packages/numpy/lib/function_base.py:5444\u001b[0m, in \u001b[0;36mappend\u001b[0;34m(arr, values, axis)\u001b[0m\n\u001b[1;32m   5442\u001b[0m     values \u001b[39m=\u001b[39m ravel(values)\n\u001b[1;32m   5443\u001b[0m     axis \u001b[39m=\u001b[39m arr\u001b[39m.\u001b[39mndim\u001b[39m-\u001b[39m\u001b[39m1\u001b[39m\n\u001b[0;32m-> 5444\u001b[0m \u001b[39mreturn\u001b[39;00m concatenate((arr, values), axis\u001b[39m=\u001b[39;49maxis)\n",
      "File \u001b[0;32m<__array_function__ internals>:180\u001b[0m, in \u001b[0;36mconcatenate\u001b[0;34m(*args, **kwargs)\u001b[0m\n",
      "\u001b[0;31mValueError\u001b[0m: all the input arrays must have same number of dimensions, but the array at index 0 has 3 dimension(s) and the array at index 1 has 2 dimension(s)"
     ]
    }
   ],
   "source": [
    "fig, ax = plt.subplots()\n",
    "ax.plot(np.arange(0,len(L),1), L)\n",
    "plt.show()\n",
    "print(L[-1])\n",
    "\n",
    "for batch_number in range(np.shape(dataSet['x_train'])[0]):\n",
    "\n",
    "    t=0\n",
    "\n",
    "    for i in range(3):\n",
    "        z = np.argmax(network.forward(onehot(dataSet['x_train'][batch_number],m)), axis = 1)\n",
    "        dataSet['x_train'][batch_number] = np.append(dataSet['x_train'], z[:,-1:], axis = 1)\n",
    "\n",
    "    for x in range(len(dataSet['x_train'][0])):\n",
    "\n",
    "        useful_x_values = dataSet['x_train'][batch_number][x,-3:]\n",
    "        equal = True\n",
    "\n",
    "        for digit in range(3):\n",
    "            if useful_x_values[x,digit]!=dataSet['y_train'][batch_number,x,digit]:\n",
    "                equal = False\n",
    "\n",
    "        if equal:\n",
    "            t+=1\n",
    "        \n",
    "    print(t/250*100)"
   ]
  }
 ],
 "metadata": {
  "kernelspec": {
   "display_name": "Python 3",
   "language": "python",
   "name": "python3"
  },
  "language_info": {
   "codemirror_mode": {
    "name": "ipython",
    "version": 3
   },
   "file_extension": ".py",
   "mimetype": "text/x-python",
   "name": "python",
   "nbconvert_exporter": "python",
   "pygments_lexer": "ipython3",
   "version": "3.10.7"
  }
 },
 "nbformat": 4,
 "nbformat_minor": 2
}
